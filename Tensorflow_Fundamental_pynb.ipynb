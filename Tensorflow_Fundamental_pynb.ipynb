{
  "nbformat": 4,
  "nbformat_minor": 0,
  "metadata": {
    "colab": {
      "provenance": [],
      "gpuType": "T4"
    },
    "kernelspec": {
      "name": "python3",
      "display_name": "Python 3"
    },
    "language_info": {
      "name": "python"
    },
    "accelerator": "GPU"
  },
  "cells": [
    {
      "cell_type": "markdown",
      "source": [
        "## Fundamental of Tensorflow:\n",
        "\n",
        "This Module will help us to prepare a data for Our Deep_Learning Models\n",
        "\n",
        "\n",
        "# What we are going to cover in this\n",
        "1) INtroduction to tensors\n",
        "\n",
        "2) Getting information from tensor\n",
        "\n",
        "3) Manipulating the tensor\n",
        "\n",
        "4) Tensor and numpy\n",
        "\n",
        "5) USing tf.functions\n",
        "\n",
        "6) Using GPU with tensorflow(or TPU)\n"
      ],
      "metadata": {
        "id": "CaI4aNhLoTMP"
      }
    },
    {
      "cell_type": "code",
      "source": [
        "\n",
        "import tensorflow as tf\n",
        "print(tf.__version__)"
      ],
      "metadata": {
        "colab": {
          "base_uri": "https://localhost:8080/"
        },
        "id": "l8w_stefpBF5",
        "outputId": "047f81b6-eed4-45c5-ff7f-08ddbf5bcaa7"
      },
      "execution_count": null,
      "outputs": [
        {
          "output_type": "stream",
          "name": "stdout",
          "text": [
            "2.19.0\n"
          ]
        }
      ]
    },
    {
      "cell_type": "code",
      "source": [
        "# Lets Create a Scaler tensor\n",
        "scalar=tf.constant(7)\n",
        "scalar"
      ],
      "metadata": {
        "colab": {
          "base_uri": "https://localhost:8080/"
        },
        "id": "UqHeB4I8pLhS",
        "outputId": "537d00b8-a9d0-418c-b05a-09f9eea5b0a1"
      },
      "execution_count": null,
      "outputs": [
        {
          "output_type": "execute_result",
          "data": {
            "text/plain": [
              "<tf.Tensor: shape=(), dtype=int32, numpy=7>"
            ]
          },
          "metadata": {},
          "execution_count": 5
        }
      ]
    },
    {
      "cell_type": "code",
      "source": [
        "# Check the dimension of a tensor\n",
        "scalar.ndim\n"
      ],
      "metadata": {
        "colab": {
          "base_uri": "https://localhost:8080/"
        },
        "id": "vxtEXh5_pjpW",
        "outputId": "80d6c522-aae6-444b-c07d-56e65412c863"
      },
      "execution_count": null,
      "outputs": [
        {
          "output_type": "execute_result",
          "data": {
            "text/plain": [
              "0"
            ]
          },
          "metadata": {},
          "execution_count": 6
        }
      ]
    },
    {
      "cell_type": "code",
      "source": [
        "# Create a vector Tensor\n",
        "vector=tf.constant([10,7])\n",
        "vector"
      ],
      "metadata": {
        "colab": {
          "base_uri": "https://localhost:8080/"
        },
        "id": "eSzg9iRDpqWB",
        "outputId": "9a204716-e60a-4577-df37-9cca29fe57d5"
      },
      "execution_count": null,
      "outputs": [
        {
          "output_type": "execute_result",
          "data": {
            "text/plain": [
              "<tf.Tensor: shape=(2,), dtype=int32, numpy=array([10,  7], dtype=int32)>"
            ]
          },
          "metadata": {},
          "execution_count": 8
        }
      ]
    },
    {
      "cell_type": "code",
      "source": [
        "# Check the  dimension\n",
        "vector.ndim"
      ],
      "metadata": {
        "colab": {
          "base_uri": "https://localhost:8080/"
        },
        "id": "fB8xdG5Apw7_",
        "outputId": "7a9efd37-5b6c-4ffb-f875-1cbc0a323501"
      },
      "execution_count": null,
      "outputs": [
        {
          "output_type": "execute_result",
          "data": {
            "text/plain": [
              "1"
            ]
          },
          "metadata": {},
          "execution_count": 9
        }
      ]
    },
    {
      "cell_type": "code",
      "source": [
        "# Lets create a matrix\n",
        "matrix=tf.constant([[10,7],\n",
        "                   [7,10]])\n",
        "matrix"
      ],
      "metadata": {
        "colab": {
          "base_uri": "https://localhost:8080/"
        },
        "id": "UJvvQD3Lp2U7",
        "outputId": "55c6e71d-2cb5-4b7d-bc40-489f68e06aee"
      },
      "execution_count": null,
      "outputs": [
        {
          "output_type": "execute_result",
          "data": {
            "text/plain": [
              "<tf.Tensor: shape=(2, 2), dtype=int32, numpy=\n",
              "array([[10,  7],\n",
              "       [ 7, 10]], dtype=int32)>"
            ]
          },
          "metadata": {},
          "execution_count": 10
        }
      ]
    },
    {
      "cell_type": "code",
      "source": [
        "# Lets check the dimension\n",
        "matrix.ndim"
      ],
      "metadata": {
        "colab": {
          "base_uri": "https://localhost:8080/"
        },
        "id": "npafb6ssqAVH",
        "outputId": "42497199-dbd0-4476-c09a-2250cd68dea6"
      },
      "execution_count": null,
      "outputs": [
        {
          "output_type": "execute_result",
          "data": {
            "text/plain": [
              "2"
            ]
          },
          "metadata": {},
          "execution_count": 11
        }
      ]
    },
    {
      "cell_type": "code",
      "source": [
        "# Lets try to create a tensor who has n dimension\n",
        "tensor=tf.constant([[[1,2,3],\n",
        "                     [4,5,6]],\n",
        "                    [[7,8,9],\n",
        "                     [10,11,12]],\n",
        "                     [[13,14,15],\n",
        "                     [16,17,18]]])\n",
        "tensor"
      ],
      "metadata": {
        "colab": {
          "base_uri": "https://localhost:8080/"
        },
        "id": "lExSa1LnqIZA",
        "outputId": "5a8b2821-abe7-4afb-9c84-cb7125f6cc83"
      },
      "execution_count": null,
      "outputs": [
        {
          "output_type": "execute_result",
          "data": {
            "text/plain": [
              "<tf.Tensor: shape=(3, 2, 3), dtype=int32, numpy=\n",
              "array([[[ 1,  2,  3],\n",
              "        [ 4,  5,  6]],\n",
              "\n",
              "       [[ 7,  8,  9],\n",
              "        [10, 11, 12]],\n",
              "\n",
              "       [[13, 14, 15],\n",
              "        [16, 17, 18]]], dtype=int32)>"
            ]
          },
          "metadata": {},
          "execution_count": 12
        }
      ]
    },
    {
      "cell_type": "code",
      "source": [
        "# Lets check the dimension of the tensor\n",
        "tensor.ndim"
      ],
      "metadata": {
        "colab": {
          "base_uri": "https://localhost:8080/"
        },
        "id": "PweH1Mkxqn5g",
        "outputId": "f2c27c9d-542e-414c-83ed-d09b8348181d"
      },
      "execution_count": null,
      "outputs": [
        {
          "output_type": "execute_result",
          "data": {
            "text/plain": [
              "3"
            ]
          },
          "metadata": {},
          "execution_count": 14
        }
      ]
    },
    {
      "cell_type": "code",
      "source": [
        "#Lets create a tensor with tf.variable\n",
        "changable_tensor=tf.Variable([10,7])\n",
        "unchangable_tesnor=tf.constant([10,7])\n",
        "\n",
        "# Now lets try to change the assign value usingf .assign() function\n",
        "# unchangable_tesnor[0].assign(7)\n",
        "changable_tensor[0].assign(7)\n",
        "changable_tensor"
      ],
      "metadata": {
        "colab": {
          "base_uri": "https://localhost:8080/"
        },
        "id": "gOYFrdL3qsjU",
        "outputId": "ef1f57ef-dbbb-4e7a-b53c-5489d2085d6e"
      },
      "execution_count": null,
      "outputs": [
        {
          "output_type": "execute_result",
          "data": {
            "text/plain": [
              "<tf.Variable 'Variable:0' shape=(2,) dtype=int32, numpy=array([7, 7], dtype=int32)>"
            ]
          },
          "metadata": {},
          "execution_count": 20
        }
      ]
    },
    {
      "cell_type": "code",
      "source": [
        "# Creating a random tensor\n",
        "random_1=tf.random.Generator.from_seed(42)\n",
        "random_1=random_1.normal(shape=(3,2))\n",
        "\n",
        "random_1"
      ],
      "metadata": {
        "colab": {
          "base_uri": "https://localhost:8080/"
        },
        "id": "OMTausAxrOwC",
        "outputId": "4622b2a4-60a8-4158-d04a-1b00e2d79366"
      },
      "execution_count": null,
      "outputs": [
        {
          "output_type": "execute_result",
          "data": {
            "text/plain": [
              "<tf.Tensor: shape=(3, 2), dtype=float32, numpy=\n",
              "array([[-0.7565803 , -0.06854702],\n",
              "       [ 0.07595026, -1.2573844 ],\n",
              "       [-0.23193763, -1.8107855 ]], dtype=float32)>"
            ]
          },
          "metadata": {},
          "execution_count": 22
        }
      ]
    },
    {
      "cell_type": "code",
      "source": [
        "# Shuffle the Order of elements in a tensor\n",
        "not_shuffled=tf.constant([[10,7],\n",
        "                         [3,8],\n",
        "                         [9,2]])\n",
        "\n",
        "tf.random.shuffle(not_shuffled)\n"
      ],
      "metadata": {
        "colab": {
          "base_uri": "https://localhost:8080/"
        },
        "id": "xVk5G3Ehr-XV",
        "outputId": "b0222498-0bcc-4ee4-b95c-64cfd70fffa8"
      },
      "execution_count": null,
      "outputs": [
        {
          "output_type": "execute_result",
          "data": {
            "text/plain": [
              "<tf.Tensor: shape=(3, 2), dtype=int32, numpy=\n",
              "array([[ 3,  8],\n",
              "       [ 9,  2],\n",
              "       [10,  7]], dtype=int32)>"
            ]
          },
          "metadata": {},
          "execution_count": 26
        }
      ]
    },
    {
      "cell_type": "code",
      "source": [
        "# Creating tensorfrom numpy\n",
        "\n",
        "# Create a tensor of one\n",
        "A=tf.ones([10,7])\n",
        "A"
      ],
      "metadata": {
        "colab": {
          "base_uri": "https://localhost:8080/"
        },
        "id": "CRMxQjxhsdBr",
        "outputId": "29f68c9f-07bd-4fc8-b713-d6cd05b86892"
      },
      "execution_count": null,
      "outputs": [
        {
          "output_type": "execute_result",
          "data": {
            "text/plain": [
              "<tf.Tensor: shape=(10, 7), dtype=float32, numpy=\n",
              "array([[1., 1., 1., 1., 1., 1., 1.],\n",
              "       [1., 1., 1., 1., 1., 1., 1.],\n",
              "       [1., 1., 1., 1., 1., 1., 1.],\n",
              "       [1., 1., 1., 1., 1., 1., 1.],\n",
              "       [1., 1., 1., 1., 1., 1., 1.],\n",
              "       [1., 1., 1., 1., 1., 1., 1.],\n",
              "       [1., 1., 1., 1., 1., 1., 1.],\n",
              "       [1., 1., 1., 1., 1., 1., 1.],\n",
              "       [1., 1., 1., 1., 1., 1., 1.],\n",
              "       [1., 1., 1., 1., 1., 1., 1.]], dtype=float32)>"
            ]
          },
          "metadata": {},
          "execution_count": 28
        }
      ]
    },
    {
      "cell_type": "code",
      "source": [
        "# Create a tensors of Zeros\n",
        "b=tf.zeros(shape=(10,7))\n",
        "b"
      ],
      "metadata": {
        "colab": {
          "base_uri": "https://localhost:8080/"
        },
        "id": "c17GMUNUsvUU",
        "outputId": "7ad07a18-2c01-4c22-d60b-7805c13627a9"
      },
      "execution_count": null,
      "outputs": [
        {
          "output_type": "execute_result",
          "data": {
            "text/plain": [
              "<tf.Tensor: shape=(10, 7), dtype=float32, numpy=\n",
              "array([[0., 0., 0., 0., 0., 0., 0.],\n",
              "       [0., 0., 0., 0., 0., 0., 0.],\n",
              "       [0., 0., 0., 0., 0., 0., 0.],\n",
              "       [0., 0., 0., 0., 0., 0., 0.],\n",
              "       [0., 0., 0., 0., 0., 0., 0.],\n",
              "       [0., 0., 0., 0., 0., 0., 0.],\n",
              "       [0., 0., 0., 0., 0., 0., 0.],\n",
              "       [0., 0., 0., 0., 0., 0., 0.],\n",
              "       [0., 0., 0., 0., 0., 0., 0.],\n",
              "       [0., 0., 0., 0., 0., 0., 0.]], dtype=float32)>"
            ]
          },
          "metadata": {},
          "execution_count": 29
        }
      ]
    },
    {
      "cell_type": "code",
      "source": [
        "# Lets change numpy array into tensors\n",
        "\n",
        "import numpy as np\n",
        "C=np.arange(1,25,dtype=np.int32)\n",
        "D=tf.constant(C)\n",
        "D"
      ],
      "metadata": {
        "colab": {
          "base_uri": "https://localhost:8080/"
        },
        "id": "QUGy8GGNs7zf",
        "outputId": "5dc95b8d-1bd7-4a72-b160-1d2255256c4f"
      },
      "execution_count": null,
      "outputs": [
        {
          "output_type": "execute_result",
          "data": {
            "text/plain": [
              "<tf.Tensor: shape=(24,), dtype=int32, numpy=\n",
              "array([ 1,  2,  3,  4,  5,  6,  7,  8,  9, 10, 11, 12, 13, 14, 15, 16, 17,\n",
              "       18, 19, 20, 21, 22, 23, 24], dtype=int32)>"
            ]
          },
          "metadata": {},
          "execution_count": 32
        }
      ]
    },
    {
      "cell_type": "code",
      "source": [
        "E=tf.constant(C,shape=(2,3,4))\n",
        "E"
      ],
      "metadata": {
        "colab": {
          "base_uri": "https://localhost:8080/"
        },
        "id": "Y-J52vt1tNX0",
        "outputId": "1e3e5090-cd68-4447-ccd3-fdbb43c7a47c"
      },
      "execution_count": null,
      "outputs": [
        {
          "output_type": "execute_result",
          "data": {
            "text/plain": [
              "<tf.Tensor: shape=(2, 3, 4), dtype=int32, numpy=\n",
              "array([[[ 1,  2,  3,  4],\n",
              "        [ 5,  6,  7,  8],\n",
              "        [ 9, 10, 11, 12]],\n",
              "\n",
              "       [[13, 14, 15, 16],\n",
              "        [17, 18, 19, 20],\n",
              "        [21, 22, 23, 24]]], dtype=int32)>"
            ]
          },
          "metadata": {},
          "execution_count": 33
        }
      ]
    },
    {
      "cell_type": "code",
      "source": [
        "F=tf.constant(C,shape=(6,4))\n",
        "F"
      ],
      "metadata": {
        "colab": {
          "base_uri": "https://localhost:8080/"
        },
        "id": "Ee9WHYiutXw1",
        "outputId": "f90395f2-4152-4212-bd66-07fcd7f092dc"
      },
      "execution_count": null,
      "outputs": [
        {
          "output_type": "execute_result",
          "data": {
            "text/plain": [
              "<tf.Tensor: shape=(6, 4), dtype=int32, numpy=\n",
              "array([[ 1,  2,  3,  4],\n",
              "       [ 5,  6,  7,  8],\n",
              "       [ 9, 10, 11, 12],\n",
              "       [13, 14, 15, 16],\n",
              "       [17, 18, 19, 20],\n",
              "       [21, 22, 23, 24]], dtype=int32)>"
            ]
          },
          "metadata": {},
          "execution_count": 34
        }
      ]
    },
    {
      "cell_type": "markdown",
      "source": [
        "\n",
        "# getting information from tensors\n",
        "1  SHape\n",
        "\n",
        "2 Axis or dimension\n",
        "\n",
        "3  Rank\n",
        "\n",
        "4  Size\n"
      ],
      "metadata": {
        "id": "NB4zG973tfK4"
      }
    },
    {
      "cell_type": "code",
      "source": [
        "# Create a tensor of zeros\n",
        "zeros=tf.zeros(shape=(2,3,4,5))\n",
        "zeros"
      ],
      "metadata": {
        "colab": {
          "base_uri": "https://localhost:8080/"
        },
        "id": "oHMQrAZpuREv",
        "outputId": "6f7ec0fe-efc4-4e05-b31c-fe1b099425e2"
      },
      "execution_count": null,
      "outputs": [
        {
          "output_type": "execute_result",
          "data": {
            "text/plain": [
              "<tf.Tensor: shape=(2, 3, 4, 5), dtype=float32, numpy=\n",
              "array([[[[0., 0., 0., 0., 0.],\n",
              "         [0., 0., 0., 0., 0.],\n",
              "         [0., 0., 0., 0., 0.],\n",
              "         [0., 0., 0., 0., 0.]],\n",
              "\n",
              "        [[0., 0., 0., 0., 0.],\n",
              "         [0., 0., 0., 0., 0.],\n",
              "         [0., 0., 0., 0., 0.],\n",
              "         [0., 0., 0., 0., 0.]],\n",
              "\n",
              "        [[0., 0., 0., 0., 0.],\n",
              "         [0., 0., 0., 0., 0.],\n",
              "         [0., 0., 0., 0., 0.],\n",
              "         [0., 0., 0., 0., 0.]]],\n",
              "\n",
              "\n",
              "       [[[0., 0., 0., 0., 0.],\n",
              "         [0., 0., 0., 0., 0.],\n",
              "         [0., 0., 0., 0., 0.],\n",
              "         [0., 0., 0., 0., 0.]],\n",
              "\n",
              "        [[0., 0., 0., 0., 0.],\n",
              "         [0., 0., 0., 0., 0.],\n",
              "         [0., 0., 0., 0., 0.],\n",
              "         [0., 0., 0., 0., 0.]],\n",
              "\n",
              "        [[0., 0., 0., 0., 0.],\n",
              "         [0., 0., 0., 0., 0.],\n",
              "         [0., 0., 0., 0., 0.],\n",
              "         [0., 0., 0., 0., 0.]]]], dtype=float32)>"
            ]
          },
          "metadata": {},
          "execution_count": 36
        }
      ]
    },
    {
      "cell_type": "code",
      "source": [
        "zeros.shape"
      ],
      "metadata": {
        "colab": {
          "base_uri": "https://localhost:8080/"
        },
        "id": "cmnniC-FuhrL",
        "outputId": "173423f1-5ee2-4430-e6e4-d8262d615c78"
      },
      "execution_count": null,
      "outputs": [
        {
          "output_type": "execute_result",
          "data": {
            "text/plain": [
              "TensorShape([2, 3, 4, 5])"
            ]
          },
          "metadata": {},
          "execution_count": 40
        }
      ]
    },
    {
      "cell_type": "code",
      "source": [
        "zeros.ndim"
      ],
      "metadata": {
        "colab": {
          "base_uri": "https://localhost:8080/"
        },
        "id": "8LFCFfq6uupV",
        "outputId": "f69fbd32-a1cf-4355-af59-cafb14fbd135"
      },
      "execution_count": null,
      "outputs": [
        {
          "output_type": "execute_result",
          "data": {
            "text/plain": [
              "4"
            ]
          },
          "metadata": {},
          "execution_count": 41
        }
      ]
    },
    {
      "cell_type": "code",
      "source": [
        "zeros.size"
      ],
      "metadata": {
        "colab": {
          "base_uri": "https://localhost:8080/",
          "height": 315
        },
        "id": "IsHCzBPau5pT",
        "outputId": "726df01c-42e5-4ed2-c576-0a21e8399f75"
      },
      "execution_count": null,
      "outputs": [
        {
          "output_type": "error",
          "ename": "AttributeError",
          "evalue": "EagerTensor object has no attribute 'size'. \n        If you are looking for numpy-related methods, please run the following:\n        tf.experimental.numpy.experimental_enable_numpy_behavior()\n      ",
          "traceback": [
            "\u001b[0;31m---------------------------------------------------------------------------\u001b[0m",
            "\u001b[0;31mAttributeError\u001b[0m                            Traceback (most recent call last)",
            "\u001b[0;32m/tmp/ipython-input-3088893982.py\u001b[0m in \u001b[0;36m<cell line: 0>\u001b[0;34m()\u001b[0m\n\u001b[0;32m----> 1\u001b[0;31m \u001b[0mzeros\u001b[0m\u001b[0;34m.\u001b[0m\u001b[0msize\u001b[0m\u001b[0;34m\u001b[0m\u001b[0;34m\u001b[0m\u001b[0m\n\u001b[0m",
            "\u001b[0;32m/usr/local/lib/python3.12/dist-packages/tensorflow/python/framework/tensor.py\u001b[0m in \u001b[0;36m__getattr__\u001b[0;34m(self, name)\u001b[0m\n\u001b[1;32m    253\u001b[0m                 \"tolist\", \"data\"}:\n\u001b[1;32m    254\u001b[0m       \u001b[0;31m# TODO(wangpeng): Export the enable_numpy_behavior knob\u001b[0m\u001b[0;34m\u001b[0m\u001b[0;34m\u001b[0m\u001b[0m\n\u001b[0;32m--> 255\u001b[0;31m       raise AttributeError(\n\u001b[0m\u001b[1;32m    256\u001b[0m           f\"{type(self).__name__} object has no attribute '{name}'. \" + \"\"\"\n\u001b[1;32m    257\u001b[0m         \u001b[0mIf\u001b[0m \u001b[0myou\u001b[0m \u001b[0mare\u001b[0m \u001b[0mlooking\u001b[0m \u001b[0;32mfor\u001b[0m \u001b[0mnumpy\u001b[0m\u001b[0;34m-\u001b[0m\u001b[0mrelated\u001b[0m \u001b[0mmethods\u001b[0m\u001b[0;34m,\u001b[0m \u001b[0mplease\u001b[0m \u001b[0mrun\u001b[0m \u001b[0mthe\u001b[0m \u001b[0mfollowing\u001b[0m\u001b[0;34m:\u001b[0m\u001b[0;34m\u001b[0m\u001b[0;34m\u001b[0m\u001b[0m\n",
            "\u001b[0;31mAttributeError\u001b[0m: EagerTensor object has no attribute 'size'. \n        If you are looking for numpy-related methods, please run the following:\n        tf.experimental.numpy.experimental_enable_numpy_behavior()\n      "
          ]
        }
      ]
    },
    {
      "cell_type": "code",
      "source": [
        "#v Inedexing Tensors\n",
        "zeros[:2,:2,:2,:2]"
      ],
      "metadata": {
        "colab": {
          "base_uri": "https://localhost:8080/"
        },
        "id": "TUC31ON0u7Ev",
        "outputId": "25aa6d4a-eb20-42d2-8d23-46731797114f"
      },
      "execution_count": null,
      "outputs": [
        {
          "output_type": "execute_result",
          "data": {
            "text/plain": [
              "<tf.Tensor: shape=(2, 2, 2, 2), dtype=float32, numpy=\n",
              "array([[[[0., 0.],\n",
              "         [0., 0.]],\n",
              "\n",
              "        [[0., 0.],\n",
              "         [0., 0.]]],\n",
              "\n",
              "\n",
              "       [[[0., 0.],\n",
              "         [0., 0.]],\n",
              "\n",
              "        [[0., 0.],\n",
              "         [0., 0.]]]], dtype=float32)>"
            ]
          },
          "metadata": {},
          "execution_count": 49
        }
      ]
    },
    {
      "cell_type": "code",
      "source": [
        "zeros[:,:2]"
      ],
      "metadata": {
        "colab": {
          "base_uri": "https://localhost:8080/"
        },
        "id": "7xfHYN0-vQ14",
        "outputId": "72fdd906-17d5-43f2-fef5-46d56fa6ce47"
      },
      "execution_count": null,
      "outputs": [
        {
          "output_type": "execute_result",
          "data": {
            "text/plain": [
              "<tf.Tensor: shape=(2, 2, 4, 5), dtype=float32, numpy=\n",
              "array([[[[0., 0., 0., 0., 0.],\n",
              "         [0., 0., 0., 0., 0.],\n",
              "         [0., 0., 0., 0., 0.],\n",
              "         [0., 0., 0., 0., 0.]],\n",
              "\n",
              "        [[0., 0., 0., 0., 0.],\n",
              "         [0., 0., 0., 0., 0.],\n",
              "         [0., 0., 0., 0., 0.],\n",
              "         [0., 0., 0., 0., 0.]]],\n",
              "\n",
              "\n",
              "       [[[0., 0., 0., 0., 0.],\n",
              "         [0., 0., 0., 0., 0.],\n",
              "         [0., 0., 0., 0., 0.],\n",
              "         [0., 0., 0., 0., 0.]],\n",
              "\n",
              "        [[0., 0., 0., 0., 0.],\n",
              "         [0., 0., 0., 0., 0.],\n",
              "         [0., 0., 0., 0., 0.],\n",
              "         [0., 0., 0., 0., 0.]]]], dtype=float32)>"
            ]
          },
          "metadata": {},
          "execution_count": 53
        }
      ]
    },
    {
      "cell_type": "code",
      "source": [
        "# Add an extra dimension to our data\n",
        "B=zeros[:,:,:,:,tf.newaxis]\n",
        "B"
      ],
      "metadata": {
        "colab": {
          "base_uri": "https://localhost:8080/"
        },
        "id": "qCWskHCzvZp9",
        "outputId": "489b7bd6-99f4-4a98-86ed-9fb176d8a609"
      },
      "execution_count": null,
      "outputs": [
        {
          "output_type": "execute_result",
          "data": {
            "text/plain": [
              "<tf.Tensor: shape=(2, 3, 4, 5, 1), dtype=float32, numpy=\n",
              "array([[[[[0.],\n",
              "          [0.],\n",
              "          [0.],\n",
              "          [0.],\n",
              "          [0.]],\n",
              "\n",
              "         [[0.],\n",
              "          [0.],\n",
              "          [0.],\n",
              "          [0.],\n",
              "          [0.]],\n",
              "\n",
              "         [[0.],\n",
              "          [0.],\n",
              "          [0.],\n",
              "          [0.],\n",
              "          [0.]],\n",
              "\n",
              "         [[0.],\n",
              "          [0.],\n",
              "          [0.],\n",
              "          [0.],\n",
              "          [0.]]],\n",
              "\n",
              "\n",
              "        [[[0.],\n",
              "          [0.],\n",
              "          [0.],\n",
              "          [0.],\n",
              "          [0.]],\n",
              "\n",
              "         [[0.],\n",
              "          [0.],\n",
              "          [0.],\n",
              "          [0.],\n",
              "          [0.]],\n",
              "\n",
              "         [[0.],\n",
              "          [0.],\n",
              "          [0.],\n",
              "          [0.],\n",
              "          [0.]],\n",
              "\n",
              "         [[0.],\n",
              "          [0.],\n",
              "          [0.],\n",
              "          [0.],\n",
              "          [0.]]],\n",
              "\n",
              "\n",
              "        [[[0.],\n",
              "          [0.],\n",
              "          [0.],\n",
              "          [0.],\n",
              "          [0.]],\n",
              "\n",
              "         [[0.],\n",
              "          [0.],\n",
              "          [0.],\n",
              "          [0.],\n",
              "          [0.]],\n",
              "\n",
              "         [[0.],\n",
              "          [0.],\n",
              "          [0.],\n",
              "          [0.],\n",
              "          [0.]],\n",
              "\n",
              "         [[0.],\n",
              "          [0.],\n",
              "          [0.],\n",
              "          [0.],\n",
              "          [0.]]]],\n",
              "\n",
              "\n",
              "\n",
              "       [[[[0.],\n",
              "          [0.],\n",
              "          [0.],\n",
              "          [0.],\n",
              "          [0.]],\n",
              "\n",
              "         [[0.],\n",
              "          [0.],\n",
              "          [0.],\n",
              "          [0.],\n",
              "          [0.]],\n",
              "\n",
              "         [[0.],\n",
              "          [0.],\n",
              "          [0.],\n",
              "          [0.],\n",
              "          [0.]],\n",
              "\n",
              "         [[0.],\n",
              "          [0.],\n",
              "          [0.],\n",
              "          [0.],\n",
              "          [0.]]],\n",
              "\n",
              "\n",
              "        [[[0.],\n",
              "          [0.],\n",
              "          [0.],\n",
              "          [0.],\n",
              "          [0.]],\n",
              "\n",
              "         [[0.],\n",
              "          [0.],\n",
              "          [0.],\n",
              "          [0.],\n",
              "          [0.]],\n",
              "\n",
              "         [[0.],\n",
              "          [0.],\n",
              "          [0.],\n",
              "          [0.],\n",
              "          [0.]],\n",
              "\n",
              "         [[0.],\n",
              "          [0.],\n",
              "          [0.],\n",
              "          [0.],\n",
              "          [0.]]],\n",
              "\n",
              "\n",
              "        [[[0.],\n",
              "          [0.],\n",
              "          [0.],\n",
              "          [0.],\n",
              "          [0.]],\n",
              "\n",
              "         [[0.],\n",
              "          [0.],\n",
              "          [0.],\n",
              "          [0.],\n",
              "          [0.]],\n",
              "\n",
              "         [[0.],\n",
              "          [0.],\n",
              "          [0.],\n",
              "          [0.],\n",
              "          [0.]],\n",
              "\n",
              "         [[0.],\n",
              "          [0.],\n",
              "          [0.],\n",
              "          [0.],\n",
              "          [0.]]]]], dtype=float32)>"
            ]
          },
          "metadata": {},
          "execution_count": 54
        }
      ]
    },
    {
      "cell_type": "code",
      "source": [
        "# alternativ to tf.newaxis\n",
        "tf.expand_dims(zeros,axis=-1)"
      ],
      "metadata": {
        "colab": {
          "base_uri": "https://localhost:8080/"
        },
        "id": "wvQyQN8Yvzfy",
        "outputId": "0fa95b38-dfd8-4cbf-8420-2c847e264852"
      },
      "execution_count": null,
      "outputs": [
        {
          "output_type": "execute_result",
          "data": {
            "text/plain": [
              "<tf.Tensor: shape=(2, 3, 4, 5, 1), dtype=float32, numpy=\n",
              "array([[[[[0.],\n",
              "          [0.],\n",
              "          [0.],\n",
              "          [0.],\n",
              "          [0.]],\n",
              "\n",
              "         [[0.],\n",
              "          [0.],\n",
              "          [0.],\n",
              "          [0.],\n",
              "          [0.]],\n",
              "\n",
              "         [[0.],\n",
              "          [0.],\n",
              "          [0.],\n",
              "          [0.],\n",
              "          [0.]],\n",
              "\n",
              "         [[0.],\n",
              "          [0.],\n",
              "          [0.],\n",
              "          [0.],\n",
              "          [0.]]],\n",
              "\n",
              "\n",
              "        [[[0.],\n",
              "          [0.],\n",
              "          [0.],\n",
              "          [0.],\n",
              "          [0.]],\n",
              "\n",
              "         [[0.],\n",
              "          [0.],\n",
              "          [0.],\n",
              "          [0.],\n",
              "          [0.]],\n",
              "\n",
              "         [[0.],\n",
              "          [0.],\n",
              "          [0.],\n",
              "          [0.],\n",
              "          [0.]],\n",
              "\n",
              "         [[0.],\n",
              "          [0.],\n",
              "          [0.],\n",
              "          [0.],\n",
              "          [0.]]],\n",
              "\n",
              "\n",
              "        [[[0.],\n",
              "          [0.],\n",
              "          [0.],\n",
              "          [0.],\n",
              "          [0.]],\n",
              "\n",
              "         [[0.],\n",
              "          [0.],\n",
              "          [0.],\n",
              "          [0.],\n",
              "          [0.]],\n",
              "\n",
              "         [[0.],\n",
              "          [0.],\n",
              "          [0.],\n",
              "          [0.],\n",
              "          [0.]],\n",
              "\n",
              "         [[0.],\n",
              "          [0.],\n",
              "          [0.],\n",
              "          [0.],\n",
              "          [0.]]]],\n",
              "\n",
              "\n",
              "\n",
              "       [[[[0.],\n",
              "          [0.],\n",
              "          [0.],\n",
              "          [0.],\n",
              "          [0.]],\n",
              "\n",
              "         [[0.],\n",
              "          [0.],\n",
              "          [0.],\n",
              "          [0.],\n",
              "          [0.]],\n",
              "\n",
              "         [[0.],\n",
              "          [0.],\n",
              "          [0.],\n",
              "          [0.],\n",
              "          [0.]],\n",
              "\n",
              "         [[0.],\n",
              "          [0.],\n",
              "          [0.],\n",
              "          [0.],\n",
              "          [0.]]],\n",
              "\n",
              "\n",
              "        [[[0.],\n",
              "          [0.],\n",
              "          [0.],\n",
              "          [0.],\n",
              "          [0.]],\n",
              "\n",
              "         [[0.],\n",
              "          [0.],\n",
              "          [0.],\n",
              "          [0.],\n",
              "          [0.]],\n",
              "\n",
              "         [[0.],\n",
              "          [0.],\n",
              "          [0.],\n",
              "          [0.],\n",
              "          [0.]],\n",
              "\n",
              "         [[0.],\n",
              "          [0.],\n",
              "          [0.],\n",
              "          [0.],\n",
              "          [0.]]],\n",
              "\n",
              "\n",
              "        [[[0.],\n",
              "          [0.],\n",
              "          [0.],\n",
              "          [0.],\n",
              "          [0.]],\n",
              "\n",
              "         [[0.],\n",
              "          [0.],\n",
              "          [0.],\n",
              "          [0.],\n",
              "          [0.]],\n",
              "\n",
              "         [[0.],\n",
              "          [0.],\n",
              "          [0.],\n",
              "          [0.],\n",
              "          [0.]],\n",
              "\n",
              "         [[0.],\n",
              "          [0.],\n",
              "          [0.],\n",
              "          [0.],\n",
              "          [0.]]]]], dtype=float32)>"
            ]
          },
          "metadata": {},
          "execution_count": 55
        }
      ]
    },
    {
      "cell_type": "code",
      "source": [
        "tf.expand_dims(zeros,axis=0)"
      ],
      "metadata": {
        "colab": {
          "base_uri": "https://localhost:8080/"
        },
        "id": "PcLL23srwEV-",
        "outputId": "60dcd8ee-781f-4cb9-e537-32d1fe2a45a2"
      },
      "execution_count": null,
      "outputs": [
        {
          "output_type": "execute_result",
          "data": {
            "text/plain": [
              "<tf.Tensor: shape=(1, 2, 3, 4, 5), dtype=float32, numpy=\n",
              "array([[[[[0., 0., 0., 0., 0.],\n",
              "          [0., 0., 0., 0., 0.],\n",
              "          [0., 0., 0., 0., 0.],\n",
              "          [0., 0., 0., 0., 0.]],\n",
              "\n",
              "         [[0., 0., 0., 0., 0.],\n",
              "          [0., 0., 0., 0., 0.],\n",
              "          [0., 0., 0., 0., 0.],\n",
              "          [0., 0., 0., 0., 0.]],\n",
              "\n",
              "         [[0., 0., 0., 0., 0.],\n",
              "          [0., 0., 0., 0., 0.],\n",
              "          [0., 0., 0., 0., 0.],\n",
              "          [0., 0., 0., 0., 0.]]],\n",
              "\n",
              "\n",
              "        [[[0., 0., 0., 0., 0.],\n",
              "          [0., 0., 0., 0., 0.],\n",
              "          [0., 0., 0., 0., 0.],\n",
              "          [0., 0., 0., 0., 0.]],\n",
              "\n",
              "         [[0., 0., 0., 0., 0.],\n",
              "          [0., 0., 0., 0., 0.],\n",
              "          [0., 0., 0., 0., 0.],\n",
              "          [0., 0., 0., 0., 0.]],\n",
              "\n",
              "         [[0., 0., 0., 0., 0.],\n",
              "          [0., 0., 0., 0., 0.],\n",
              "          [0., 0., 0., 0., 0.],\n",
              "          [0., 0., 0., 0., 0.]]]]], dtype=float32)>"
            ]
          },
          "metadata": {},
          "execution_count": 57
        }
      ]
    },
    {
      "cell_type": "code",
      "source": [
        "# lets try to manipualte the tensor using some basic operations\n",
        "tensor=tf.constant([20,7])\n",
        "tensor+10"
      ],
      "metadata": {
        "colab": {
          "base_uri": "https://localhost:8080/"
        },
        "id": "J8BqzV6rwLjy",
        "outputId": "78260467-b5d6-4c87-c5e5-dd822091806a"
      },
      "execution_count": null,
      "outputs": [
        {
          "output_type": "execute_result",
          "data": {
            "text/plain": [
              "<tf.Tensor: shape=(2,), dtype=int32, numpy=array([30, 17], dtype=int32)>"
            ]
          },
          "metadata": {},
          "execution_count": 58
        }
      ]
    },
    {
      "cell_type": "code",
      "source": [
        "tensor-10"
      ],
      "metadata": {
        "colab": {
          "base_uri": "https://localhost:8080/"
        },
        "id": "YtyQ_xEG5ZyC",
        "outputId": "21bb098f-a190-4f30-b8fe-af47b1b70613"
      },
      "execution_count": null,
      "outputs": [
        {
          "output_type": "execute_result",
          "data": {
            "text/plain": [
              "<tf.Tensor: shape=(2,), dtype=int32, numpy=array([10, -3], dtype=int32)>"
            ]
          },
          "metadata": {},
          "execution_count": 61
        }
      ]
    },
    {
      "cell_type": "code",
      "source": [
        "tensor*10\n"
      ],
      "metadata": {
        "colab": {
          "base_uri": "https://localhost:8080/"
        },
        "id": "p26di9wg5bVT",
        "outputId": "5449df31-2279-4467-c638-eaaf24523485"
      },
      "execution_count": null,
      "outputs": [
        {
          "output_type": "execute_result",
          "data": {
            "text/plain": [
              "<tf.Tensor: shape=(2,), dtype=int32, numpy=array([200,  70], dtype=int32)>"
            ]
          },
          "metadata": {},
          "execution_count": 62
        }
      ]
    },
    {
      "cell_type": "code",
      "source": [
        "# we can use tesnorflow built in function too\n",
        "tf.multiply(tensor,10)"
      ],
      "metadata": {
        "colab": {
          "base_uri": "https://localhost:8080/"
        },
        "id": "7dt6C0Fa5hYp",
        "outputId": "89136045-f36c-4467-a1c5-8ab77e426ccc"
      },
      "execution_count": null,
      "outputs": [
        {
          "output_type": "execute_result",
          "data": {
            "text/plain": [
              "<tf.Tensor: shape=(2,), dtype=int32, numpy=array([200,  70], dtype=int32)>"
            ]
          },
          "metadata": {},
          "execution_count": 64
        }
      ]
    },
    {
      "cell_type": "code",
      "source": [
        "# Lets go for matrix multiplication\n",
        "# we have to use tf.matmul with python we can use @\n",
        "# Create X and y\n",
        "X=np.arange(1,10,dtype=np.int32)\n",
        "y=np.arange(1,25,dtype=np.int32)\n",
        "A=tf.constant(X,shape=(3,3))\n",
        "B=tf.constant(y,shape=(3,8))\n",
        "A,B"
      ],
      "metadata": {
        "colab": {
          "base_uri": "https://localhost:8080/"
        },
        "id": "-tDP29Fz5oRn",
        "outputId": "88d09ed1-2540-43e4-cced-ca9cf3ff90e6"
      },
      "execution_count": null,
      "outputs": [
        {
          "output_type": "execute_result",
          "data": {
            "text/plain": [
              "(<tf.Tensor: shape=(3, 3), dtype=int32, numpy=\n",
              " array([[1, 2, 3],\n",
              "        [4, 5, 6],\n",
              "        [7, 8, 9]], dtype=int32)>,\n",
              " <tf.Tensor: shape=(3, 8), dtype=int32, numpy=\n",
              " array([[ 1,  2,  3,  4,  5,  6,  7,  8],\n",
              "        [ 9, 10, 11, 12, 13, 14, 15, 16],\n",
              "        [17, 18, 19, 20, 21, 22, 23, 24]], dtype=int32)>)"
            ]
          },
          "metadata": {},
          "execution_count": 71
        }
      ]
    },
    {
      "cell_type": "code",
      "source": [
        "tf.matmul(A,B)"
      ],
      "metadata": {
        "colab": {
          "base_uri": "https://localhost:8080/"
        },
        "id": "YwGPw1xI5w6Y",
        "outputId": "c95519ad-6ced-48db-b93b-4bbb5b9327bc"
      },
      "execution_count": null,
      "outputs": [
        {
          "output_type": "execute_result",
          "data": {
            "text/plain": [
              "<tf.Tensor: shape=(3, 8), dtype=int32, numpy=\n",
              "array([[ 70,  76,  82,  88,  94, 100, 106, 112],\n",
              "       [151, 166, 181, 196, 211, 226, 241, 256],\n",
              "       [232, 256, 280, 304, 328, 352, 376, 400]], dtype=int32)>"
            ]
          },
          "metadata": {},
          "execution_count": 72
        }
      ]
    },
    {
      "cell_type": "code",
      "source": [
        "X = tf.constant([[1, 2],\n",
        "                 [3, 4],\n",
        "                 [5, 6]])\n",
        "\n",
        "# Create another (3, 2) tensor\n",
        "Y = tf.constant([[7, 8],\n",
        "                 [9, 10],\n",
        "                 [11, 12]])\n",
        "X, Y"
      ],
      "metadata": {
        "colab": {
          "base_uri": "https://localhost:8080/"
        },
        "id": "klr4v65G8S80",
        "outputId": "f091d4ed-f500-41ea-847f-0b95b41bcc30"
      },
      "execution_count": null,
      "outputs": [
        {
          "output_type": "execute_result",
          "data": {
            "text/plain": [
              "(<tf.Tensor: shape=(3, 2), dtype=int32, numpy=\n",
              " array([[1, 2],\n",
              "        [3, 4],\n",
              "        [5, 6]], dtype=int32)>,\n",
              " <tf.Tensor: shape=(3, 2), dtype=int32, numpy=\n",
              " array([[ 7,  8],\n",
              "        [ 9, 10],\n",
              "        [11, 12]], dtype=int32)>)"
            ]
          },
          "metadata": {},
          "execution_count": 73
        }
      ]
    },
    {
      "cell_type": "code",
      "source": [
        "tf.matmul(tf.transpose(X),Y)"
      ],
      "metadata": {
        "colab": {
          "base_uri": "https://localhost:8080/"
        },
        "id": "hXVxoXDNAHLL",
        "outputId": "83628fd9-f17f-403d-f170-0d097af8b803"
      },
      "execution_count": null,
      "outputs": [
        {
          "output_type": "execute_result",
          "data": {
            "text/plain": [
              "<tf.Tensor: shape=(2, 2), dtype=int32, numpy=\n",
              "array([[ 89,  98],\n",
              "       [116, 128]], dtype=int32)>"
            ]
          },
          "metadata": {},
          "execution_count": 76
        }
      ]
    },
    {
      "cell_type": "code",
      "source": [
        "B=tf.constant([1.7,2.7])\n",
        "B.dtype"
      ],
      "metadata": {
        "colab": {
          "base_uri": "https://localhost:8080/"
        },
        "id": "QMovMcuBALu-",
        "outputId": "cfeead1c-cb7f-4c66-85e3-44911e08d2b0"
      },
      "execution_count": null,
      "outputs": [
        {
          "output_type": "execute_result",
          "data": {
            "text/plain": [
              "tf.float32"
            ]
          },
          "metadata": {},
          "execution_count": 80
        }
      ]
    },
    {
      "cell_type": "code",
      "source": [
        "B=tf.cast(B,dtype=tf.float16)\n",
        "B.dtype"
      ],
      "metadata": {
        "colab": {
          "base_uri": "https://localhost:8080/"
        },
        "id": "7e9XY4rDBNaw",
        "outputId": "adac7634-cfdd-4ed8-8b74-710023067101"
      },
      "execution_count": null,
      "outputs": [
        {
          "output_type": "execute_result",
          "data": {
            "text/plain": [
              "tf.float16"
            ]
          },
          "metadata": {},
          "execution_count": 81
        }
      ]
    },
    {
      "cell_type": "code",
      "source": [
        "# agregating Tensors\n",
        "D=tf.constant([-1.7,-10.2])\n",
        "D=abs(D)\n",
        "D"
      ],
      "metadata": {
        "colab": {
          "base_uri": "https://localhost:8080/"
        },
        "id": "JFX2W1wkBXps",
        "outputId": "d1f6b96a-4c3f-4df5-ada2-5e24ce22fa77"
      },
      "execution_count": null,
      "outputs": [
        {
          "output_type": "execute_result",
          "data": {
            "text/plain": [
              "<tf.Tensor: shape=(2,), dtype=float32, numpy=array([ 1.7, 10.2], dtype=float32)>"
            ]
          },
          "metadata": {},
          "execution_count": 83
        }
      ]
    },
    {
      "cell_type": "code",
      "source": [
        "E= tf.constant(np.random.randint(1,100,size=50))\n",
        "E"
      ],
      "metadata": {
        "colab": {
          "base_uri": "https://localhost:8080/"
        },
        "id": "Job2UZgoCpVn",
        "outputId": "d5734f34-69f2-4db7-bd37-3f2dca5c0f46"
      },
      "execution_count": null,
      "outputs": [
        {
          "output_type": "execute_result",
          "data": {
            "text/plain": [
              "<tf.Tensor: shape=(50,), dtype=int64, numpy=\n",
              "array([93, 70, 78, 77,  6, 12, 69, 45, 57, 29, 28, 20, 40,  7, 84, 49, 39,\n",
              "       18,  2, 21, 36, 27, 93, 90, 32,  5, 39, 76, 22, 35, 45, 27, 39, 88,\n",
              "       99, 85, 29, 52, 42, 77, 58, 75, 57, 37, 71, 73, 49, 59, 51, 96])>"
            ]
          },
          "metadata": {},
          "execution_count": 84
        }
      ]
    },
    {
      "cell_type": "code",
      "source": [
        "# Lets find the minimum\n",
        "tf.reduce_min(E)"
      ],
      "metadata": {
        "colab": {
          "base_uri": "https://localhost:8080/"
        },
        "id": "ejXUVTtfC5jH",
        "outputId": "2c145fa1-995d-4afb-971d-715237f8a086"
      },
      "execution_count": null,
      "outputs": [
        {
          "output_type": "execute_result",
          "data": {
            "text/plain": [
              "<tf.Tensor: shape=(), dtype=int64, numpy=2>"
            ]
          },
          "metadata": {},
          "execution_count": 85
        }
      ]
    },
    {
      "cell_type": "code",
      "source": [
        "# lets find the maximum\n",
        "tf.reduce_max(E)"
      ],
      "metadata": {
        "colab": {
          "base_uri": "https://localhost:8080/"
        },
        "id": "3RkCvqFgC-rc",
        "outputId": "81569f4e-c330-4f26-89ec-35a160d9d346"
      },
      "execution_count": null,
      "outputs": [
        {
          "output_type": "execute_result",
          "data": {
            "text/plain": [
              "<tf.Tensor: shape=(), dtype=int64, numpy=99>"
            ]
          },
          "metadata": {},
          "execution_count": 86
        }
      ]
    },
    {
      "cell_type": "code",
      "source": [
        "# lets create a mean\n",
        "tf.reduce_mean(E)"
      ],
      "metadata": {
        "colab": {
          "base_uri": "https://localhost:8080/"
        },
        "id": "lYxunmM7DF3X",
        "outputId": "c1143b3c-94e6-4ac3-a7a9-7d1ec02bf907"
      },
      "execution_count": null,
      "outputs": [
        {
          "output_type": "execute_result",
          "data": {
            "text/plain": [
              "<tf.Tensor: shape=(), dtype=int64, numpy=50>"
            ]
          },
          "metadata": {},
          "execution_count": 87
        }
      ]
    },
    {
      "cell_type": "code",
      "source": [
        "# lets get the sum opf the tensor\n",
        "tf.reduce_sum(E)"
      ],
      "metadata": {
        "colab": {
          "base_uri": "https://localhost:8080/"
        },
        "id": "RC21hJ_JDJeF",
        "outputId": "b2386c93-2195-4729-d451-b02dc79464aa"
      },
      "execution_count": null,
      "outputs": [
        {
          "output_type": "execute_result",
          "data": {
            "text/plain": [
              "<tf.Tensor: shape=(), dtype=int64, numpy=2508>"
            ]
          },
          "metadata": {},
          "execution_count": 88
        }
      ]
    },
    {
      "cell_type": "code",
      "source": [
        "# Find the  ariance of the tensor\n",
        "import tensorflow_probability as tfp\n",
        "tfp.stats.variance(E)"
      ],
      "metadata": {
        "colab": {
          "base_uri": "https://localhost:8080/"
        },
        "id": "JNmiyKXUDO0B",
        "outputId": "48ef1d80-3ceb-40f2-ffb7-65ab57a9134c"
      },
      "execution_count": null,
      "outputs": [
        {
          "output_type": "execute_result",
          "data": {
            "text/plain": [
              "<tf.Tensor: shape=(), dtype=int64, numpy=723>"
            ]
          },
          "metadata": {},
          "execution_count": 89
        }
      ]
    },
    {
      "cell_type": "code",
      "source": [
        "# Find the std of tensor\n",
        "tf.math.reduce_std(tf.cast(E,dtype=tf.float32))"
      ],
      "metadata": {
        "colab": {
          "base_uri": "https://localhost:8080/"
        },
        "id": "47r4j4QjDb6o",
        "outputId": "b5271f3e-df22-4761-d643-f108aded930b"
      },
      "execution_count": null,
      "outputs": [
        {
          "output_type": "execute_result",
          "data": {
            "text/plain": [
              "<tf.Tensor: shape=(), dtype=float32, numpy=26.901569366455078>"
            ]
          },
          "metadata": {},
          "execution_count": 92
        }
      ]
    },
    {
      "cell_type": "code",
      "source": [
        "# Find the positional maximum and minimum\n",
        "# Set up a random seed\n",
        "np.random.seed(42)\n",
        "A=tf.random.uniform(shape=[100])\n",
        "A"
      ],
      "metadata": {
        "colab": {
          "base_uri": "https://localhost:8080/"
        },
        "id": "JYeeFbcuDhKL",
        "outputId": "12af34b4-726d-4407-99ff-b9d18076abe4"
      },
      "execution_count": null,
      "outputs": [
        {
          "output_type": "execute_result",
          "data": {
            "text/plain": [
              "<tf.Tensor: shape=(100,), dtype=float32, numpy=\n",
              "array([0.06826472, 0.8906021 , 0.7009065 , 0.4306891 , 0.8419391 ,\n",
              "       0.23641086, 0.42297685, 0.0395757 , 0.9655719 , 0.8340069 ,\n",
              "       0.25248218, 0.968246  , 0.9185451 , 0.21427858, 0.6164446 ,\n",
              "       0.52292395, 0.1733619 , 0.40075457, 0.6846441 , 0.1907295 ,\n",
              "       0.15954792, 0.35243917, 0.5611944 , 0.22650778, 0.33121634,\n",
              "       0.51238275, 0.01776671, 0.52935755, 0.6294397 , 0.7693889 ,\n",
              "       0.68801486, 0.6641973 , 0.8455074 , 0.50363517, 0.0718137 ,\n",
              "       0.71875453, 0.70814586, 0.40865743, 0.74161816, 0.7304964 ,\n",
              "       0.86761487, 0.9137176 , 0.50277054, 0.8077823 , 0.32310605,\n",
              "       0.14442348, 0.2619611 , 0.69101965, 0.4422902 , 0.6105249 ,\n",
              "       0.5800009 , 0.09883726, 0.13782787, 0.12346518, 0.95187986,\n",
              "       0.5295242 , 0.11982048, 0.6938896 , 0.00141978, 0.79668283,\n",
              "       0.51661   , 0.21255243, 0.03486776, 0.701362  , 0.366323  ,\n",
              "       0.7377428 , 0.6419549 , 0.622167  , 0.76300764, 0.8685374 ,\n",
              "       0.7564553 , 0.3273332 , 0.89256144, 0.45850933, 0.51554334,\n",
              "       0.6010858 , 0.08667576, 0.11888123, 0.88334715, 0.05649054,\n",
              "       0.72969806, 0.19601023, 0.8803489 , 0.99966   , 0.10673106,\n",
              "       0.5326618 , 0.36383903, 0.72242117, 0.3390168 , 0.13099074,\n",
              "       0.3928336 , 0.70435476, 0.6118783 , 0.91833174, 0.7046205 ,\n",
              "       0.55775523, 0.65761364, 0.07747746, 0.6573254 , 0.7104567 ],\n",
              "      dtype=float32)>"
            ]
          },
          "metadata": {},
          "execution_count": 107
        }
      ]
    },
    {
      "cell_type": "code",
      "source": [
        "# find the positional maximum\n",
        "tf.argmin(A)"
      ],
      "metadata": {
        "colab": {
          "base_uri": "https://localhost:8080/"
        },
        "id": "hm1lVxrOD9ei",
        "outputId": "019a2d0b-b000-46fe-abbb-37ac836d0427"
      },
      "execution_count": null,
      "outputs": [
        {
          "output_type": "execute_result",
          "data": {
            "text/plain": [
              "<tf.Tensor: shape=(), dtype=int64, numpy=58>"
            ]
          },
          "metadata": {},
          "execution_count": 108
        }
      ]
    },
    {
      "cell_type": "code",
      "source": [
        "A[tf.argmin(A)]"
      ],
      "metadata": {
        "colab": {
          "base_uri": "https://localhost:8080/"
        },
        "id": "Hv4rlXbOEHdY",
        "outputId": "c64022c9-b6af-4793-db93-f8e7f7dc411d"
      },
      "execution_count": null,
      "outputs": [
        {
          "output_type": "execute_result",
          "data": {
            "text/plain": [
              "<tf.Tensor: shape=(), dtype=float32, numpy=0.0014197826385498047>"
            ]
          },
          "metadata": {},
          "execution_count": 109
        }
      ]
    },
    {
      "cell_type": "code",
      "source": [
        "# find the positional maximum of the tensor\n",
        "tf.argmax(A)"
      ],
      "metadata": {
        "colab": {
          "base_uri": "https://localhost:8080/"
        },
        "id": "QdoQKo_qENq1",
        "outputId": "03e7316f-37c5-471c-838c-5213b37b69a8"
      },
      "execution_count": null,
      "outputs": [
        {
          "output_type": "execute_result",
          "data": {
            "text/plain": [
              "<tf.Tensor: shape=(), dtype=int64, numpy=83>"
            ]
          },
          "metadata": {},
          "execution_count": 110
        }
      ]
    },
    {
      "cell_type": "code",
      "source": [
        "A[tf.argmax(A)]"
      ],
      "metadata": {
        "colab": {
          "base_uri": "https://localhost:8080/"
        },
        "id": "QXThAH_XE10O",
        "outputId": "23d82cfd-9397-4742-da5d-127f260febda"
      },
      "execution_count": null,
      "outputs": [
        {
          "output_type": "execute_result",
          "data": {
            "text/plain": [
              "<tf.Tensor: shape=(), dtype=float32, numpy=0.9996600151062012>"
            ]
          },
          "metadata": {},
          "execution_count": 111
        }
      ]
    },
    {
      "cell_type": "code",
      "source": [
        "# Squeezing a tensor\n",
        "G=tf.constant(tf.random.uniform(shape=[50]),shape=(10,1,1,1,5))\n",
        "G_squeezed=tf.squeeze(G)\n",
        "G_squeezed"
      ],
      "metadata": {
        "colab": {
          "base_uri": "https://localhost:8080/"
        },
        "id": "90fDqF5CE4-7",
        "outputId": "478d47e8-4eb0-42b5-dd43-c26ba656feb7"
      },
      "execution_count": null,
      "outputs": [
        {
          "output_type": "execute_result",
          "data": {
            "text/plain": [
              "<tf.Tensor: shape=(10, 5), dtype=float32, numpy=\n",
              "array([[0.74958634, 0.26587176, 0.6950959 , 0.823086  , 0.49750865],\n",
              "       [0.6150141 , 0.6097611 , 0.93617964, 0.38570082, 0.9971311 ],\n",
              "       [0.27476633, 0.6631218 , 0.06593478, 0.33011758, 0.9488106 ],\n",
              "       [0.48024452, 0.2951988 , 0.53607666, 0.54563534, 0.11033142],\n",
              "       [0.63493955, 0.7414104 , 0.6735625 , 0.6767272 , 0.76424015],\n",
              "       [0.13779163, 0.5712316 , 0.47916353, 0.7802321 , 0.7403488 ],\n",
              "       [0.12756455, 0.8304901 , 0.26091564, 0.49645436, 0.659631  ],\n",
              "       [0.45915067, 0.7418859 , 0.6842214 , 0.5065485 , 0.93568754],\n",
              "       [0.0279572 , 0.4689535 , 0.87988746, 0.3971094 , 0.40133882],\n",
              "       [0.40040183, 0.63186336, 0.945565  , 0.28178012, 0.30915737]],\n",
              "      dtype=float32)>"
            ]
          },
          "metadata": {},
          "execution_count": 117
        }
      ]
    },
    {
      "cell_type": "code",
      "source": [
        "# One_Hot_Encoding\n",
        "list_1=[0,1,2,3,4]\n",
        "tf.one_hot(list_1,depth=5,on_value=\"yess\",off_value=\"no\")"
      ],
      "metadata": {
        "colab": {
          "base_uri": "https://localhost:8080/"
        },
        "id": "m1mxh50MFVN_",
        "outputId": "3826957b-9df8-46a3-f3c8-84ba62aa39fb"
      },
      "execution_count": null,
      "outputs": [
        {
          "output_type": "execute_result",
          "data": {
            "text/plain": [
              "<tf.Tensor: shape=(5, 5), dtype=string, numpy=\n",
              "array([[b'yess', b'no', b'no', b'no', b'no'],\n",
              "       [b'no', b'yess', b'no', b'no', b'no'],\n",
              "       [b'no', b'no', b'yess', b'no', b'no'],\n",
              "       [b'no', b'no', b'no', b'yess', b'no'],\n",
              "       [b'no', b'no', b'no', b'no', b'yess']], dtype=object)>"
            ]
          },
          "metadata": {},
          "execution_count": 119
        }
      ]
    },
    {
      "cell_type": "code",
      "source": [
        "# Making some other operations\n",
        "H=tf.range(1,10)\n",
        "H"
      ],
      "metadata": {
        "colab": {
          "base_uri": "https://localhost:8080/"
        },
        "id": "w2D_psxfNpxO",
        "outputId": "a59e2f3a-34dd-4378-af7a-21c79a04dacf"
      },
      "execution_count": null,
      "outputs": [
        {
          "output_type": "execute_result",
          "data": {
            "text/plain": [
              "<tf.Tensor: shape=(9,), dtype=int32, numpy=array([1, 2, 3, 4, 5, 6, 7, 8, 9], dtype=int32)>"
            ]
          },
          "metadata": {},
          "execution_count": 120
        }
      ]
    },
    {
      "cell_type": "code",
      "source": [
        "#Square it\n",
        "tf.square(H)"
      ],
      "metadata": {
        "colab": {
          "base_uri": "https://localhost:8080/"
        },
        "id": "RZDCppa0N_o_",
        "outputId": "59fe34d2-5f79-423e-f212-0443864088b5"
      },
      "execution_count": null,
      "outputs": [
        {
          "output_type": "execute_result",
          "data": {
            "text/plain": [
              "<tf.Tensor: shape=(9,), dtype=int32, numpy=array([ 1,  4,  9, 16, 25, 36, 49, 64, 81], dtype=int32)>"
            ]
          },
          "metadata": {},
          "execution_count": 121
        }
      ]
    },
    {
      "cell_type": "code",
      "source": [
        "tf.sqrt(tf.cast(H,dtype=tf.float32))"
      ],
      "metadata": {
        "colab": {
          "base_uri": "https://localhost:8080/"
        },
        "id": "cqwFrmmsOGfA",
        "outputId": "68cacf5a-576d-4c22-926a-28b894a9a79e"
      },
      "execution_count": null,
      "outputs": [
        {
          "output_type": "execute_result",
          "data": {
            "text/plain": [
              "<tf.Tensor: shape=(9,), dtype=float32, numpy=\n",
              "array([1.       , 1.4142135, 1.7320508, 2.       , 2.236068 , 2.4494898,\n",
              "       2.6457512, 2.828427 , 3.       ], dtype=float32)>"
            ]
          },
          "metadata": {},
          "execution_count": 124
        }
      ]
    },
    {
      "cell_type": "code",
      "source": [
        "tf.math.log(tf.cast(H,dtype=tf.float32))"
      ],
      "metadata": {
        "colab": {
          "base_uri": "https://localhost:8080/"
        },
        "id": "yTU0GcukOJ7t",
        "outputId": "6840926a-0a38-4ec1-a0fe-702bf94b672f"
      },
      "execution_count": null,
      "outputs": [
        {
          "output_type": "execute_result",
          "data": {
            "text/plain": [
              "<tf.Tensor: shape=(9,), dtype=float32, numpy=\n",
              "array([0.       , 0.6931472, 1.0986123, 1.3862944, 1.609438 , 1.7917595,\n",
              "       1.9459102, 2.0794415, 2.1972246], dtype=float32)>"
            ]
          },
          "metadata": {},
          "execution_count": 125
        }
      ]
    },
    {
      "cell_type": "code",
      "source": [
        "import tensorflow as tf\n",
        "tf.config.list_physical_devices()\n"
      ],
      "metadata": {
        "colab": {
          "base_uri": "https://localhost:8080/"
        },
        "id": "fAgEgh1wObAg",
        "outputId": "b48c0042-334a-49f4-cbf9-2c5b44c01d13"
      },
      "execution_count": null,
      "outputs": [
        {
          "output_type": "execute_result",
          "data": {
            "text/plain": [
              "[PhysicalDevice(name='/physical_device:CPU:0', device_type='CPU'),\n",
              " PhysicalDevice(name='/physical_device:GPU:0', device_type='GPU')]"
            ]
          },
          "metadata": {},
          "execution_count": 2
        }
      ]
    },
    {
      "cell_type": "code",
      "source": [
        "! nvidia-smi"
      ],
      "metadata": {
        "colab": {
          "base_uri": "https://localhost:8080/"
        },
        "id": "ySpRaSRfOh-1",
        "outputId": "9e9aff0a-a768-40e2-8478-4b8d0a96c642"
      },
      "execution_count": null,
      "outputs": [
        {
          "output_type": "stream",
          "name": "stdout",
          "text": [
            "Sat Sep 27 12:52:53 2025       \n",
            "+-----------------------------------------------------------------------------------------+\n",
            "| NVIDIA-SMI 550.54.15              Driver Version: 550.54.15      CUDA Version: 12.4     |\n",
            "|-----------------------------------------+------------------------+----------------------+\n",
            "| GPU  Name                 Persistence-M | Bus-Id          Disp.A | Volatile Uncorr. ECC |\n",
            "| Fan  Temp   Perf          Pwr:Usage/Cap |           Memory-Usage | GPU-Util  Compute M. |\n",
            "|                                         |                        |               MIG M. |\n",
            "|=========================================+========================+======================|\n",
            "|   0  Tesla T4                       Off |   00000000:00:04.0 Off |                    0 |\n",
            "| N/A   42C    P8              9W /   70W |       2MiB /  15360MiB |      0%      Default |\n",
            "|                                         |                        |                  N/A |\n",
            "+-----------------------------------------+------------------------+----------------------+\n",
            "                                                                                         \n",
            "+-----------------------------------------------------------------------------------------+\n",
            "| Processes:                                                                              |\n",
            "|  GPU   GI   CI        PID   Type   Process name                              GPU Memory |\n",
            "|        ID   ID                                                               Usage      |\n",
            "|=========================================================================================|\n",
            "|  No running processes found                                                             |\n",
            "+-----------------------------------------------------------------------------------------+\n"
          ]
        }
      ]
    },
    {
      "cell_type": "code",
      "source": [
        "s"
      ],
      "metadata": {
        "id": "ik2_r_WuOle-"
      },
      "execution_count": null,
      "outputs": []
    }
  ]
}