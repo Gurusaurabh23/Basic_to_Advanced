{
 "cells": [
  {
   "cell_type": "markdown",
   "id": "4276c7a5",
   "metadata": {},
   "source": [
    "## Lets Build an ANN Model to predict the Quality of wine:\n",
    "We will see in this project:\n",
    "1) Hyperparameter sweep on training set\n",
    "2) compare the results of the run in Mlflow Ui\n",
    "3) Choose the best run and register it as a model\n",
    "4) Deploy the model to Rest API\n",
    "5) Build a Container Image suitable for deployment to cloud platform"
   ]
  },
  {
   "cell_type": "markdown",
   "id": "2402c61f",
   "metadata": {},
   "source": [
    "## Before we move ahead lets just import some important libraries\n"
   ]
  },
  {
   "cell_type": "code",
   "execution_count": 1,
   "id": "2aed6a30",
   "metadata": {},
   "outputs": [],
   "source": [
    "import pandas as pd\n",
    "import numpy as np \n",
    "import mlflow\n",
    "from mlflow.models import infer_signature\n"
   ]
  },
  {
   "cell_type": "code",
   "execution_count": 6,
   "id": "b5859468",
   "metadata": {},
   "outputs": [],
   "source": [
    "import tensorflow\n",
    "import keras\n",
    "import hyperopt\n",
    "from hyperopt import STATUS_OK,Trials,fmin,hp,tpe\n",
    "from sklearn.metrics import mean_squared_error\n",
    "from sklearn.model_selection import train_test_split\n",
    "\n"
   ]
  },
  {
   "cell_type": "code",
   "execution_count": 10,
   "id": "1fc792b8",
   "metadata": {},
   "outputs": [],
   "source": [
    "import zipfile\n",
    "\n",
    "zip_ref=zipfile.ZipFile(r\"C:\\Users\\Saurabh Guru\\Downloads\\archive.zip\")\n",
    "zip_ref.extractall()\n",
    "zip_ref.close()"
   ]
  },
  {
   "cell_type": "code",
   "execution_count": 14,
   "id": "b0057ce2",
   "metadata": {},
   "outputs": [
    {
     "data": {
      "text/html": [
       "<div>\n",
       "<style scoped>\n",
       "    .dataframe tbody tr th:only-of-type {\n",
       "        vertical-align: middle;\n",
       "    }\n",
       "\n",
       "    .dataframe tbody tr th {\n",
       "        vertical-align: top;\n",
       "    }\n",
       "\n",
       "    .dataframe thead th {\n",
       "        text-align: right;\n",
       "    }\n",
       "</style>\n",
       "<table border=\"1\" class=\"dataframe\">\n",
       "  <thead>\n",
       "    <tr style=\"text-align: right;\">\n",
       "      <th></th>\n",
       "      <th>fixed acidity</th>\n",
       "      <th>volatile acidity</th>\n",
       "      <th>citric acid</th>\n",
       "      <th>residual sugar</th>\n",
       "      <th>chlorides</th>\n",
       "      <th>free sulfur dioxide</th>\n",
       "      <th>total sulfur dioxide</th>\n",
       "      <th>density</th>\n",
       "      <th>pH</th>\n",
       "      <th>sulphates</th>\n",
       "      <th>alcohol</th>\n",
       "      <th>quality</th>\n",
       "      <th>Id</th>\n",
       "    </tr>\n",
       "  </thead>\n",
       "  <tbody>\n",
       "    <tr>\n",
       "      <th>0</th>\n",
       "      <td>7.4</td>\n",
       "      <td>0.70</td>\n",
       "      <td>0.00</td>\n",
       "      <td>1.9</td>\n",
       "      <td>0.076</td>\n",
       "      <td>11.0</td>\n",
       "      <td>34.0</td>\n",
       "      <td>0.9978</td>\n",
       "      <td>3.51</td>\n",
       "      <td>0.56</td>\n",
       "      <td>9.4</td>\n",
       "      <td>5</td>\n",
       "      <td>0</td>\n",
       "    </tr>\n",
       "    <tr>\n",
       "      <th>1</th>\n",
       "      <td>7.8</td>\n",
       "      <td>0.88</td>\n",
       "      <td>0.00</td>\n",
       "      <td>2.6</td>\n",
       "      <td>0.098</td>\n",
       "      <td>25.0</td>\n",
       "      <td>67.0</td>\n",
       "      <td>0.9968</td>\n",
       "      <td>3.20</td>\n",
       "      <td>0.68</td>\n",
       "      <td>9.8</td>\n",
       "      <td>5</td>\n",
       "      <td>1</td>\n",
       "    </tr>\n",
       "    <tr>\n",
       "      <th>2</th>\n",
       "      <td>7.8</td>\n",
       "      <td>0.76</td>\n",
       "      <td>0.04</td>\n",
       "      <td>2.3</td>\n",
       "      <td>0.092</td>\n",
       "      <td>15.0</td>\n",
       "      <td>54.0</td>\n",
       "      <td>0.9970</td>\n",
       "      <td>3.26</td>\n",
       "      <td>0.65</td>\n",
       "      <td>9.8</td>\n",
       "      <td>5</td>\n",
       "      <td>2</td>\n",
       "    </tr>\n",
       "    <tr>\n",
       "      <th>3</th>\n",
       "      <td>11.2</td>\n",
       "      <td>0.28</td>\n",
       "      <td>0.56</td>\n",
       "      <td>1.9</td>\n",
       "      <td>0.075</td>\n",
       "      <td>17.0</td>\n",
       "      <td>60.0</td>\n",
       "      <td>0.9980</td>\n",
       "      <td>3.16</td>\n",
       "      <td>0.58</td>\n",
       "      <td>9.8</td>\n",
       "      <td>6</td>\n",
       "      <td>3</td>\n",
       "    </tr>\n",
       "    <tr>\n",
       "      <th>4</th>\n",
       "      <td>7.4</td>\n",
       "      <td>0.70</td>\n",
       "      <td>0.00</td>\n",
       "      <td>1.9</td>\n",
       "      <td>0.076</td>\n",
       "      <td>11.0</td>\n",
       "      <td>34.0</td>\n",
       "      <td>0.9978</td>\n",
       "      <td>3.51</td>\n",
       "      <td>0.56</td>\n",
       "      <td>9.4</td>\n",
       "      <td>5</td>\n",
       "      <td>4</td>\n",
       "    </tr>\n",
       "  </tbody>\n",
       "</table>\n",
       "</div>"
      ],
      "text/plain": [
       "   fixed acidity  volatile acidity  citric acid  residual sugar  chlorides  \\\n",
       "0            7.4              0.70         0.00             1.9      0.076   \n",
       "1            7.8              0.88         0.00             2.6      0.098   \n",
       "2            7.8              0.76         0.04             2.3      0.092   \n",
       "3           11.2              0.28         0.56             1.9      0.075   \n",
       "4            7.4              0.70         0.00             1.9      0.076   \n",
       "\n",
       "   free sulfur dioxide  total sulfur dioxide  density    pH  sulphates  \\\n",
       "0                 11.0                  34.0   0.9978  3.51       0.56   \n",
       "1                 25.0                  67.0   0.9968  3.20       0.68   \n",
       "2                 15.0                  54.0   0.9970  3.26       0.65   \n",
       "3                 17.0                  60.0   0.9980  3.16       0.58   \n",
       "4                 11.0                  34.0   0.9978  3.51       0.56   \n",
       "\n",
       "   alcohol  quality  Id  \n",
       "0      9.4        5   0  \n",
       "1      9.8        5   1  \n",
       "2      9.8        5   2  \n",
       "3      9.8        6   3  \n",
       "4      9.4        5   4  "
      ]
     },
     "execution_count": 14,
     "metadata": {},
     "output_type": "execute_result"
    }
   ],
   "source": [
    "# Now lets import a data\n",
    "data=pd.read_csv(r\"C:\\Users\\Saurabh Guru\\OneDrive\\Desktop\\Last\\Wine_Quality\\WineQT.csv\")\n",
    "data[:5]"
   ]
  },
  {
   "cell_type": "code",
   "execution_count": 16,
   "id": "c6f87428",
   "metadata": {},
   "outputs": [
    {
     "name": "stdout",
     "output_type": "stream",
     "text": [
      "<class 'pandas.core.frame.DataFrame'>\n",
      "RangeIndex: 1143 entries, 0 to 1142\n",
      "Data columns (total 13 columns):\n",
      " #   Column                Non-Null Count  Dtype  \n",
      "---  ------                --------------  -----  \n",
      " 0   fixed acidity         1143 non-null   float64\n",
      " 1   volatile acidity      1143 non-null   float64\n",
      " 2   citric acid           1143 non-null   float64\n",
      " 3   residual sugar        1143 non-null   float64\n",
      " 4   chlorides             1143 non-null   float64\n",
      " 5   free sulfur dioxide   1143 non-null   float64\n",
      " 6   total sulfur dioxide  1143 non-null   float64\n",
      " 7   density               1143 non-null   float64\n",
      " 8   pH                    1143 non-null   float64\n",
      " 9   sulphates             1143 non-null   float64\n",
      " 10  alcohol               1143 non-null   float64\n",
      " 11  quality               1143 non-null   int64  \n",
      " 12  Id                    1143 non-null   int64  \n",
      "dtypes: float64(11), int64(2)\n",
      "memory usage: 116.2 KB\n"
     ]
    }
   ],
   "source": [
    "# Lets go to the data and check all the things\n",
    "data.info()"
   ]
  },
  {
   "cell_type": "code",
   "execution_count": 17,
   "id": "afbef0e7",
   "metadata": {},
   "outputs": [
    {
     "data": {
      "text/plain": [
       "1143"
      ]
     },
     "execution_count": 17,
     "metadata": {},
     "output_type": "execute_result"
    }
   ],
   "source": [
    "len(data)"
   ]
  },
  {
   "cell_type": "code",
   "execution_count": 19,
   "id": "be9f6891",
   "metadata": {},
   "outputs": [
    {
     "data": {
      "text/plain": [
       "fixed acidity           0\n",
       "volatile acidity        0\n",
       "citric acid             0\n",
       "residual sugar          0\n",
       "chlorides               0\n",
       "free sulfur dioxide     0\n",
       "total sulfur dioxide    0\n",
       "density                 0\n",
       "pH                      0\n",
       "sulphates               0\n",
       "alcohol                 0\n",
       "quality                 0\n",
       "Id                      0\n",
       "dtype: int64"
      ]
     },
     "execution_count": 19,
     "metadata": {},
     "output_type": "execute_result"
    }
   ],
   "source": [
    "data.isnull().sum()"
   ]
  },
  {
   "cell_type": "code",
   "execution_count": 95,
   "id": "ca23f169",
   "metadata": {},
   "outputs": [],
   "source": [
    "X=data.drop(\"quality\",axis=1).values\n",
    "y=data[\"quality\"].values.ravel()"
   ]
  },
  {
   "cell_type": "code",
   "execution_count": 96,
   "id": "6a5bdf95",
   "metadata": {},
   "outputs": [
    {
     "data": {
      "text/plain": [
       "array([[7.400e+00, 7.000e-01, 0.000e+00, 1.900e+00, 7.600e-02, 1.100e+01,\n",
       "        3.400e+01, 9.978e-01, 3.510e+00, 5.600e-01, 9.400e+00, 0.000e+00],\n",
       "       [7.800e+00, 8.800e-01, 0.000e+00, 2.600e+00, 9.800e-02, 2.500e+01,\n",
       "        6.700e+01, 9.968e-01, 3.200e+00, 6.800e-01, 9.800e+00, 1.000e+00],\n",
       "       [7.800e+00, 7.600e-01, 4.000e-02, 2.300e+00, 9.200e-02, 1.500e+01,\n",
       "        5.400e+01, 9.970e-01, 3.260e+00, 6.500e-01, 9.800e+00, 2.000e+00],\n",
       "       [1.120e+01, 2.800e-01, 5.600e-01, 1.900e+00, 7.500e-02, 1.700e+01,\n",
       "        6.000e+01, 9.980e-01, 3.160e+00, 5.800e-01, 9.800e+00, 3.000e+00],\n",
       "       [7.400e+00, 7.000e-01, 0.000e+00, 1.900e+00, 7.600e-02, 1.100e+01,\n",
       "        3.400e+01, 9.978e-01, 3.510e+00, 5.600e-01, 9.400e+00, 4.000e+00]])"
      ]
     },
     "execution_count": 96,
     "metadata": {},
     "output_type": "execute_result"
    }
   ],
   "source": [
    "X[:5]"
   ]
  },
  {
   "cell_type": "code",
   "execution_count": 97,
   "id": "973b15ba",
   "metadata": {},
   "outputs": [
    {
     "data": {
      "text/plain": [
       "array([5, 5, 5, 6, 5])"
      ]
     },
     "execution_count": 97,
     "metadata": {},
     "output_type": "execute_result"
    }
   ],
   "source": [
    "y[:5]"
   ]
  },
  {
   "cell_type": "code",
   "execution_count": 98,
   "id": "9eb77d13",
   "metadata": {},
   "outputs": [],
   "source": [
    "# now lets just split the train and test data\n",
    "\n",
    "X_train,X_test,y_train,y_test=train_test_split(X,y,test_size=0.2,random_state=42)"
   ]
  },
  {
   "cell_type": "code",
   "execution_count": 99,
   "id": "47885648",
   "metadata": {},
   "outputs": [
    {
     "data": {
      "text/plain": [
       "(914, 229)"
      ]
     },
     "execution_count": 99,
     "metadata": {},
     "output_type": "execute_result"
    }
   ],
   "source": [
    "# Lets go through the trrain and test data\n",
    "len(X_train),len(X_test)"
   ]
  },
  {
   "cell_type": "code",
   "execution_count": 100,
   "id": "77cf413a",
   "metadata": {},
   "outputs": [],
   "source": [
    "# lets set the signature so we can understand what is our input and output\n",
    "signature=infer_signature(X_train,y_train)\n"
   ]
  },
  {
   "cell_type": "code",
   "execution_count": 101,
   "id": "daba8517",
   "metadata": {},
   "outputs": [
    {
     "data": {
      "text/plain": [
       "(914, 12)"
      ]
     },
     "execution_count": 101,
     "metadata": {},
     "output_type": "execute_result"
    }
   ],
   "source": [
    "X_train.shape"
   ]
  },
  {
   "cell_type": "code",
   "execution_count": 102,
   "id": "4cb67acc",
   "metadata": {},
   "outputs": [
    {
     "data": {
      "text/plain": [
       "array([[8.5000e+00, 2.8000e-01, 5.6000e-01, 1.8000e+00, 9.2000e-02,\n",
       "        3.5000e+01, 1.0300e+02, 9.9690e-01, 3.3000e+00, 7.5000e-01,\n",
       "        1.0500e+01, 1.6000e+01],\n",
       "       [9.9000e+00, 3.2000e-01, 5.6000e-01, 2.0000e+00, 7.3000e-02,\n",
       "        3.0000e+00, 8.0000e+00, 9.9534e-01, 3.1500e+00, 7.3000e-01,\n",
       "        1.1400e+01, 1.0760e+03],\n",
       "       [8.9000e+00, 3.1000e-01, 3.6000e-01, 2.6000e+00, 5.6000e-02,\n",
       "        1.0000e+01, 3.9000e+01, 9.9562e-01, 3.4000e+00, 6.9000e-01,\n",
       "        1.1800e+01, 9.0000e+02],\n",
       "       [6.6000e+00, 8.8000e-01, 4.0000e-02, 2.2000e+00, 6.6000e-02,\n",
       "        1.2000e+01, 2.0000e+01, 9.9636e-01, 3.5300e+00, 5.6000e-01,\n",
       "        9.9000e+00, 1.5560e+03],\n",
       "       [7.6000e+00, 4.2000e-01, 2.5000e-01, 3.9000e+00, 1.0400e-01,\n",
       "        2.8000e+01, 9.0000e+01, 9.9784e-01, 3.1500e+00, 5.7000e-01,\n",
       "        9.1000e+00, 1.0570e+03]])"
      ]
     },
     "execution_count": 102,
     "metadata": {},
     "output_type": "execute_result"
    }
   ],
   "source": [
    "X_train[:5]"
   ]
  },
  {
   "cell_type": "code",
   "execution_count": 103,
   "id": "95b783da",
   "metadata": {},
   "outputs": [
    {
     "data": {
      "text/plain": [
       "array([8.25809628e+00, 5.31017505e-01, 2.65798687e-01, 2.51909190e+00,\n",
       "       8.64759300e-02, 1.57067834e+01, 4.58386214e+01, 9.96682724e-01,\n",
       "       3.31423414e+00, 6.55645514e-01, 1.04391867e+01, 8.15590810e+02])"
      ]
     },
     "execution_count": 103,
     "metadata": {},
     "output_type": "execute_result"
    }
   ],
   "source": [
    "# Lets take the mean\n",
    "mean=np.mean(X_train,axis=0)\n",
    "mean"
   ]
  },
  {
   "cell_type": "code",
   "execution_count": 104,
   "id": "d229b380",
   "metadata": {},
   "outputs": [
    {
     "data": {
      "text/plain": [
       "array([2.87446946e+00, 3.20228159e-02, 3.79762221e-02, 1.70305180e+00,\n",
       "       2.24776364e-03, 1.04691376e+02, 1.01837139e+03, 3.66090057e-06,\n",
       "       2.33517657e-02, 2.75742551e-02, 1.15387924e+00, 2.15851380e+05])"
      ]
     },
     "execution_count": 104,
     "metadata": {},
     "output_type": "execute_result"
    }
   ],
   "source": [
    "var=np.var(X_train,axis=0)\n",
    "var"
   ]
  },
  {
   "cell_type": "code",
   "execution_count": 114,
   "id": "1378f6f6",
   "metadata": {},
   "outputs": [],
   "source": [
    "import tensorflow as tf\n",
    "normalizer = tf.keras.layers.Normalization()\n",
    "normalizer.adapt(X_train)  # X_train is your training data"
   ]
  },
  {
   "cell_type": "code",
   "execution_count": 120,
   "id": "8eac4d5b",
   "metadata": {},
   "outputs": [],
   "source": [
    "# lets create a function to build Ann Model\n",
    "def train_model(params,epochs,X_train,y_train,X_test,y_test):\n",
    "    # Define model Architecture\n",
    "    ANN_mod=keras.Sequential([\n",
    "        # keras.Input([X_train.shape[1]]),\n",
    "        normalizer,\n",
    "        keras.layers.Dense(64, activation='relu', input_shape=(X_train.shape[1],)),\n",
    "        keras.layers.Dense(1,activation=\"sigmoid\")\n",
    "    ])\n",
    "\n",
    "    # Compile a model\n",
    "    ANN_mod.compile(loss='mean_squared_error',\n",
    "                    optimizer=keras.optimizers.SGD(learning_rate=params[\"lr\"],momentum=params[\"momentum\"]),\n",
    "                    metrics=[keras.metrics.RootMeanSquaredError()])\n",
    "    \n",
    "    # train model with lr and momentumn param with MLflow tracking:\n",
    "    with mlflow.start_run(nested=True):\n",
    "        ANN_mod.fit(X_train,y_train,validation_data=(X_test,y_test),epochs=epochs,batch_size=64)\n",
    "\n",
    "        #Evaluate the model\n",
    "        eval_result=ANN_mod.evaluate(X_test,y_test,batch_size=64)\n",
    "        eval_rmse=eval_result[1]\n",
    "\n",
    "        #log the params and result\n",
    "        mlflow.log_params(params)\n",
    "        mlflow.log_metric(\"eval_rmse\",eval_rmse)\n",
    "\n",
    "        #log the model \n",
    "        mlflow.tensorflow.log_model(model=ANN_mod, signature=signature)\n",
    "        return {\"loss\":eval_rmse,\"status\":STATUS_OK,\"model\":ANN_mod}"
   ]
  },
  {
   "cell_type": "code",
   "execution_count": 121,
   "id": "9115d32a",
   "metadata": {},
   "outputs": [],
   "source": [
    "## Now lets just Create a Objective Function(using hyperopt so we can choose best params for our model)\n",
    "\n",
    "def objective(params):\n",
    "    #mlflow will track the parameters and results for each run\n",
    "    result=train_model(params,epochs=5,X_train=X_train,y_train=y_train,X_test=X_test,y_test=y_test)\n",
    "\n",
    "    return result"
   ]
  },
  {
   "cell_type": "code",
   "execution_count": 122,
   "id": "3edab4c2",
   "metadata": {},
   "outputs": [],
   "source": [
    "# Lets create a Space so we can decide which will be the best lr and momentum\n",
    "space={\n",
    "    \"lr\":hp.loguniform(\"lr\",np.log(1e-5),np.log(1e-1)),\n",
    "    \"momentum\": hp.uniform(\"momentum\",0.0,1.0)\n",
    "}"
   ]
  },
  {
   "cell_type": "code",
   "execution_count": 132,
   "id": "8cc1d2ad",
   "metadata": {},
   "outputs": [
    {
     "name": "stdout",
     "output_type": "stream",
     "text": [
      "{'state': 2, 'tid': 1, 'spec': None, 'result': {'loss': 4.726466655731201, 'status': 'ok', 'model': <Sequential name=sequential_34, built=True>}, 'misc': {'tid': 1, 'cmd': ('domain_attachment', 'FMinIter_Domain'), 'workdir': None, 'idxs': {'lr': [np.int64(1)], 'momentum': [np.int64(1)]}, 'vals': {'lr': [np.float64(0.006320554971193353)], 'momentum': [np.float64(0.7950781948837115)]}}, 'exp_key': None, 'owner': None, 'version': 0, 'book_time': datetime.datetime(2025, 10, 26, 14, 56, 17, 857000), 'refresh_time': datetime.datetime(2025, 10, 26, 14, 56, 24, 509000)}\n"
     ]
    }
   ],
   "source": [
    "# print(best_run)\n",
    "print(best_run)"
   ]
  },
  {
   "cell_type": "code",
   "execution_count": 136,
   "id": "0864ef9f",
   "metadata": {},
   "outputs": [
    {
     "name": "stdout",
     "output_type": "stream",
     "text": [
      "Epoch 1/5                                            \n",
      "\n",
      "\u001b[1m 1/15\u001b[0m \u001b[32m━\u001b[0m\u001b[37m━━━━━━━━━━━━━━━━━━━\u001b[0m \u001b[1m4s\u001b[0m 304ms/step - loss: 26.3973 - root_mean_squared_error: 5.1378\n",
      "\u001b[1m15/15\u001b[0m \u001b[32m━━━━━━━━━━━━━━━━━━━━\u001b[0m\u001b[37m\u001b[0m \u001b[1m0s\u001b[0m 10ms/step - loss: 25.3390 - root_mean_squared_error: 5.0338 - val_loss: 23.6462 - val_root_mean_squared_error: 4.8627\n",
      "\n",
      "Epoch 2/5                                            \n",
      "\n",
      "\u001b[1m 1/15\u001b[0m \u001b[32m━\u001b[0m\u001b[37m━━━━━━━━━━━━━━━━━━━\u001b[0m \u001b[1m0s\u001b[0m 43ms/step - loss: 23.4260 - root_mean_squared_error: 4.8400\n",
      "\u001b[1m15/15\u001b[0m \u001b[32m━━━━━━━━━━━━━━━━━━━━\u001b[0m\u001b[37m\u001b[0m \u001b[1m0s\u001b[0m 8ms/step - loss: 23.3591 - root_mean_squared_error: 4.8331 - val_loss: 22.9117 - val_root_mean_squared_error: 4.7866\n",
      "\n",
      "Epoch 3/5                                            \n",
      "\n",
      "\u001b[1m 1/15\u001b[0m \u001b[32m━\u001b[0m\u001b[37m━━━━━━━━━━━━━━━━━━━\u001b[0m \u001b[1m0s\u001b[0m 31ms/step - loss: 23.3231 - root_mean_squared_error: 4.8294\n",
      "\u001b[1m15/15\u001b[0m \u001b[32m━━━━━━━━━━━━━━━━━━━━\u001b[0m\u001b[37m\u001b[0m \u001b[1m0s\u001b[0m 5ms/step - loss: 22.8859 - root_mean_squared_error: 4.7839 - val_loss: 22.6661 - val_root_mean_squared_error: 4.7609\n",
      "\n",
      "Epoch 4/5                                            \n",
      "\n",
      "\u001b[1m 1/15\u001b[0m \u001b[32m━\u001b[0m\u001b[37m━━━━━━━━━━━━━━━━━━━\u001b[0m \u001b[1m0s\u001b[0m 28ms/step - loss: 22.6411 - root_mean_squared_error: 4.7583\n",
      "\u001b[1m15/15\u001b[0m \u001b[32m━━━━━━━━━━━━━━━━━━━━\u001b[0m\u001b[37m\u001b[0m \u001b[1m0s\u001b[0m 6ms/step - loss: 22.7025 - root_mean_squared_error: 4.7647 - val_loss: 22.5500 - val_root_mean_squared_error: 4.7487\n",
      "\n",
      "Epoch 5/5                                            \n",
      "\n",
      "\u001b[1m 1/15\u001b[0m \u001b[32m━\u001b[0m\u001b[37m━━━━━━━━━━━━━━━━━━━\u001b[0m \u001b[1m0s\u001b[0m 28ms/step - loss: 23.5887 - root_mean_squared_error: 4.8568\n",
      "\u001b[1m15/15\u001b[0m \u001b[32m━━━━━━━━━━━━━━━━━━━━\u001b[0m\u001b[37m\u001b[0m \u001b[1m0s\u001b[0m 6ms/step - loss: 22.6090 - root_mean_squared_error: 4.7549 - val_loss: 22.4834 - val_root_mean_squared_error: 4.7417\n",
      "\n",
      "\u001b[1m1/4\u001b[0m \u001b[32m━━━━━\u001b[0m\u001b[37m━━━━━━━━━━━━━━━\u001b[0m \u001b[1m0s\u001b[0m 15ms/step - loss: 23.1084 - root_mean_squared_error: 4.8071\n",
      "\u001b[1m4/4\u001b[0m \u001b[32m━━━━━━━━━━━━━━━━━━━━\u001b[0m\u001b[37m\u001b[0m \u001b[1m0s\u001b[0m 6ms/step - loss: 22.4834 - root_mean_squared_error: 4.7417 \n",
      "\n",
      "Epoch 1/5                                                                     \n",
      "\n",
      "\u001b[1m 1/15\u001b[0m \u001b[32m━\u001b[0m\u001b[37m━━━━━━━━━━━━━━━━━━━\u001b[0m \u001b[1m4s\u001b[0m 295ms/step - loss: 28.1865 - root_mean_squared_error: 5.3091\n",
      "\u001b[1m15/15\u001b[0m \u001b[32m━━━━━━━━━━━━━━━━━━━━\u001b[0m\u001b[37m\u001b[0m \u001b[1m0s\u001b[0m 11ms/step - loss: 28.3816 - root_mean_squared_error: 5.3274 - val_loss: 27.5068 - val_root_mean_squared_error: 5.2447\n",
      "\n",
      "Epoch 2/5                                                                     \n",
      "\n",
      "\u001b[1m 1/15\u001b[0m \u001b[32m━\u001b[0m\u001b[37m━━━━━━━━━━━━━━━━━━━\u001b[0m \u001b[1m0s\u001b[0m 26ms/step - loss: 26.8208 - root_mean_squared_error: 5.1789\n",
      "\u001b[1m15/15\u001b[0m \u001b[32m━━━━━━━━━━━━━━━━━━━━\u001b[0m\u001b[37m\u001b[0m \u001b[1m0s\u001b[0m 4ms/step - loss: 27.2336 - root_mean_squared_error: 5.2186 - val_loss: 26.2772 - val_root_mean_squared_error: 5.1261\n",
      "\n",
      "Epoch 3/5                                                                     \n",
      "\n",
      "\u001b[1m 1/15\u001b[0m \u001b[32m━\u001b[0m\u001b[37m━━━━━━━━━━━━━━━━━━━\u001b[0m \u001b[1m0s\u001b[0m 21ms/step - loss: 25.9276 - root_mean_squared_error: 5.0919\n",
      "\u001b[1m15/15\u001b[0m \u001b[32m━━━━━━━━━━━━━━━━━━━━\u001b[0m\u001b[37m\u001b[0m \u001b[1m0s\u001b[0m 6ms/step - loss: 26.0916 - root_mean_squared_error: 5.1080 - val_loss: 25.2510 - val_root_mean_squared_error: 5.0250\n",
      "\n",
      "Epoch 4/5                                                                     \n",
      "\n",
      "\u001b[1m 1/15\u001b[0m \u001b[32m━\u001b[0m\u001b[37m━━━━━━━━━━━━━━━━━━━\u001b[0m \u001b[1m0s\u001b[0m 20ms/step - loss: 25.0728 - root_mean_squared_error: 5.0073\n",
      "\u001b[1m15/15\u001b[0m \u001b[32m━━━━━━━━━━━━━━━━━━━━\u001b[0m\u001b[37m\u001b[0m \u001b[1m0s\u001b[0m 5ms/step - loss: 25.1888 - root_mean_squared_error: 5.0188 - val_loss: 24.5303 - val_root_mean_squared_error: 4.9528\n",
      "\n",
      "Epoch 5/5                                                                     \n",
      "\n",
      "\u001b[1m 1/15\u001b[0m \u001b[32m━\u001b[0m\u001b[37m━━━━━━━━━━━━━━━━━━━\u001b[0m \u001b[1m0s\u001b[0m 24ms/step - loss: 24.2081 - root_mean_squared_error: 4.9202\n",
      "\u001b[1m15/15\u001b[0m \u001b[32m━━━━━━━━━━━━━━━━━━━━\u001b[0m\u001b[37m\u001b[0m \u001b[1m0s\u001b[0m 5ms/step - loss: 24.5489 - root_mean_squared_error: 4.9547 - val_loss: 24.0450 - val_root_mean_squared_error: 4.9036\n",
      "\n",
      "\u001b[1m1/4\u001b[0m \u001b[32m━━━━━\u001b[0m\u001b[37m━━━━━━━━━━━━━━━\u001b[0m \u001b[1m0s\u001b[0m 20ms/step - loss: 24.6924 - root_mean_squared_error: 4.9691\n",
      "\u001b[1m4/4\u001b[0m \u001b[32m━━━━━━━━━━━━━━━━━━━━\u001b[0m\u001b[37m\u001b[0m \u001b[1m0s\u001b[0m 3ms/step - loss: 24.0450 - root_mean_squared_error: 4.9036 \n",
      "\n",
      "Epoch 1/5                                                                     \n",
      "\n",
      "\u001b[1m 1/15\u001b[0m \u001b[32m━\u001b[0m\u001b[37m━━━━━━━━━━━━━━━━━━━\u001b[0m \u001b[1m4s\u001b[0m 292ms/step - loss: 26.0607 - root_mean_squared_error: 5.1050\n",
      "\u001b[1m15/15\u001b[0m \u001b[32m━━━━━━━━━━━━━━━━━━━━\u001b[0m\u001b[37m\u001b[0m \u001b[1m0s\u001b[0m 11ms/step - loss: 26.7141 - root_mean_squared_error: 5.1686 - val_loss: 26.3022 - val_root_mean_squared_error: 5.1286\n",
      "\n",
      "Epoch 2/5                                                                     \n",
      "\n",
      "\u001b[1m 1/15\u001b[0m \u001b[32m━\u001b[0m\u001b[37m━━━━━━━━━━━━━━━━━━━\u001b[0m \u001b[1m0s\u001b[0m 14ms/step - loss: 27.4237 - root_mean_squared_error: 5.2368\n",
      "\u001b[1m15/15\u001b[0m \u001b[32m━━━━━━━━━━━━━━━━━━━━\u001b[0m\u001b[37m\u001b[0m \u001b[1m0s\u001b[0m 5ms/step - loss: 26.0322 - root_mean_squared_error: 5.1022 - val_loss: 25.4464 - val_root_mean_squared_error: 5.0444\n",
      "\n",
      "Epoch 3/5                                                                     \n",
      "\n",
      "\u001b[1m 1/15\u001b[0m \u001b[32m━\u001b[0m\u001b[37m━━━━━━━━━━━━━━━━━━━\u001b[0m \u001b[1m0s\u001b[0m 19ms/step - loss: 26.5187 - root_mean_squared_error: 5.1496\n",
      "\u001b[1m15/15\u001b[0m \u001b[32m━━━━━━━━━━━━━━━━━━━━\u001b[0m\u001b[37m\u001b[0m \u001b[1m0s\u001b[0m 5ms/step - loss: 25.2170 - root_mean_squared_error: 5.0217 - val_loss: 24.6815 - val_root_mean_squared_error: 4.9681\n",
      "\n",
      "Epoch 4/5                                                                     \n",
      "\n",
      "\u001b[1m 1/15\u001b[0m \u001b[32m━\u001b[0m\u001b[37m━━━━━━━━━━━━━━━━━━━\u001b[0m \u001b[1m0s\u001b[0m 27ms/step - loss: 24.0002 - root_mean_squared_error: 4.8990\n",
      "\u001b[1m15/15\u001b[0m \u001b[32m━━━━━━━━━━━━━━━━━━━━\u001b[0m\u001b[37m\u001b[0m \u001b[1m0s\u001b[0m 5ms/step - loss: 24.5482 - root_mean_squared_error: 4.9546 - val_loss: 24.1250 - val_root_mean_squared_error: 4.9117\n",
      "\n",
      "Epoch 5/5                                                                     \n",
      "\n",
      "\u001b[1m 1/15\u001b[0m \u001b[32m━\u001b[0m\u001b[37m━━━━━━━━━━━━━━━━━━━\u001b[0m \u001b[1m0s\u001b[0m 51ms/step - loss: 25.8619 - root_mean_squared_error: 5.0855\n",
      "\u001b[1m15/15\u001b[0m \u001b[32m━━━━━━━━━━━━━━━━━━━━\u001b[0m\u001b[37m\u001b[0m \u001b[1m0s\u001b[0m 5ms/step - loss: 24.0708 - root_mean_squared_error: 4.9062 - val_loss: 23.7381 - val_root_mean_squared_error: 4.8722\n",
      "\n",
      "\u001b[1m1/4\u001b[0m \u001b[32m━━━━━\u001b[0m\u001b[37m━━━━━━━━━━━━━━━\u001b[0m \u001b[1m0s\u001b[0m 8ms/step - loss: 24.3339 - root_mean_squared_error: 4.9329\n",
      "\u001b[1m4/4\u001b[0m \u001b[32m━━━━━━━━━━━━━━━━━━━━\u001b[0m\u001b[37m\u001b[0m \u001b[1m0s\u001b[0m 6ms/step - loss: 23.7381 - root_mean_squared_error: 4.8722\n",
      "\n",
      "Epoch 1/5                                                                     \n",
      "\n",
      "\u001b[1m 1/15\u001b[0m \u001b[32m━\u001b[0m\u001b[37m━━━━━━━━━━━━━━━━━━━\u001b[0m \u001b[1m4s\u001b[0m 301ms/step - loss: 25.6296 - root_mean_squared_error: 5.0626\n",
      "\u001b[1m15/15\u001b[0m \u001b[32m━━━━━━━━━━━━━━━━━━━━\u001b[0m\u001b[37m\u001b[0m \u001b[1m0s\u001b[0m 10ms/step - loss: 27.3881 - root_mean_squared_error: 5.2334 - val_loss: 27.1049 - val_root_mean_squared_error: 5.2062\n",
      "\n",
      "Epoch 2/5                                                                     \n",
      "\n",
      "\u001b[1m 1/15\u001b[0m \u001b[32m━\u001b[0m\u001b[37m━━━━━━━━━━━━━━━━━━━\u001b[0m \u001b[1m0s\u001b[0m 22ms/step - loss: 26.2727 - root_mean_squared_error: 5.1257\n",
      "\u001b[1m15/15\u001b[0m \u001b[32m━━━━━━━━━━━━━━━━━━━━\u001b[0m\u001b[37m\u001b[0m \u001b[1m0s\u001b[0m 5ms/step - loss: 27.2619 - root_mean_squared_error: 5.2213 - val_loss: 26.9739 - val_root_mean_squared_error: 5.1936\n",
      "\n",
      "Epoch 3/5                                                                     \n",
      "\n",
      "\u001b[1m 1/15\u001b[0m \u001b[32m━\u001b[0m\u001b[37m━━━━━━━━━━━━━━━━━━━\u001b[0m \u001b[1m0s\u001b[0m 26ms/step - loss: 27.5637 - root_mean_squared_error: 5.2501\n",
      "\u001b[1m15/15\u001b[0m \u001b[32m━━━━━━━━━━━━━━━━━━━━\u001b[0m\u001b[37m\u001b[0m \u001b[1m0s\u001b[0m 5ms/step - loss: 27.1315 - root_mean_squared_error: 5.2088 - val_loss: 26.8432 - val_root_mean_squared_error: 5.1810\n",
      "\n",
      "Epoch 4/5                                                                     \n",
      "\n",
      "\u001b[1m 1/15\u001b[0m \u001b[32m━\u001b[0m\u001b[37m━━━━━━━━━━━━━━━━━━━\u001b[0m \u001b[1m0s\u001b[0m 16ms/step - loss: 25.8469 - root_mean_squared_error: 5.0840\n",
      "\u001b[1m15/15\u001b[0m \u001b[32m━━━━━━━━━━━━━━━━━━━━\u001b[0m\u001b[37m\u001b[0m \u001b[1m0s\u001b[0m 5ms/step - loss: 27.0019 - root_mean_squared_error: 5.1963 - val_loss: 26.7142 - val_root_mean_squared_error: 5.1686\n",
      "\n",
      "Epoch 5/5                                                                     \n",
      "\n",
      "\u001b[1m 1/15\u001b[0m \u001b[32m━\u001b[0m\u001b[37m━━━━━━━━━━━━━━━━━━━\u001b[0m \u001b[1m0s\u001b[0m 14ms/step - loss: 26.4337 - root_mean_squared_error: 5.1414\n",
      "\u001b[1m15/15\u001b[0m \u001b[32m━━━━━━━━━━━━━━━━━━━━\u001b[0m\u001b[37m\u001b[0m \u001b[1m0s\u001b[0m 6ms/step - loss: 26.8738 - root_mean_squared_error: 5.1840 - val_loss: 26.5869 - val_root_mean_squared_error: 5.1563\n",
      "\n",
      "\u001b[1m1/4\u001b[0m \u001b[32m━━━━━\u001b[0m\u001b[37m━━━━━━━━━━━━━━━\u001b[0m \u001b[1m0s\u001b[0m 22ms/step - loss: 27.3871 - root_mean_squared_error: 5.2333\n",
      "\u001b[1m4/4\u001b[0m \u001b[32m━━━━━━━━━━━━━━━━━━━━\u001b[0m\u001b[37m\u001b[0m \u001b[1m0s\u001b[0m 6ms/step - loss: 26.5869 - root_mean_squared_error: 5.1563 \n",
      "\n",
      "Epoch 1/5                                                                     \n",
      "\n",
      "\u001b[1m 1/15\u001b[0m \u001b[32m━\u001b[0m\u001b[37m━━━━━━━━━━━━━━━━━━━\u001b[0m \u001b[1m3s\u001b[0m 285ms/step - loss: 26.8395 - root_mean_squared_error: 5.1807\n",
      "\u001b[1m15/15\u001b[0m \u001b[32m━━━━━━━━━━━━━━━━━━━━\u001b[0m\u001b[37m\u001b[0m \u001b[1m0s\u001b[0m 11ms/step - loss: 27.2797 - root_mean_squared_error: 5.2230 - val_loss: 26.5270 - val_root_mean_squared_error: 5.1504\n",
      "\n",
      "Epoch 2/5                                                                     \n",
      "\n",
      "\u001b[1m 1/15\u001b[0m \u001b[32m━\u001b[0m\u001b[37m━━━━━━━━━━━━━━━━━━━\u001b[0m \u001b[1m0s\u001b[0m 18ms/step - loss: 27.8605 - root_mean_squared_error: 5.2783\n",
      "\u001b[1m15/15\u001b[0m \u001b[32m━━━━━━━━━━━━━━━━━━━━\u001b[0m\u001b[37m\u001b[0m \u001b[1m0s\u001b[0m 5ms/step - loss: 26.0760 - root_mean_squared_error: 5.1065 - val_loss: 25.3538 - val_root_mean_squared_error: 5.0353\n",
      "\n",
      "Epoch 3/5                                                                     \n",
      "\n",
      "\u001b[1m 1/15\u001b[0m \u001b[32m━\u001b[0m\u001b[37m━━━━━━━━━━━━━━━━━━━\u001b[0m \u001b[1m0s\u001b[0m 21ms/step - loss: 26.1464 - root_mean_squared_error: 5.1134\n",
      "\u001b[1m15/15\u001b[0m \u001b[32m━━━━━━━━━━━━━━━━━━━━\u001b[0m\u001b[37m\u001b[0m \u001b[1m0s\u001b[0m 5ms/step - loss: 25.0648 - root_mean_squared_error: 5.0065 - val_loss: 24.5182 - val_root_mean_squared_error: 4.9516\n",
      "\n",
      "Epoch 4/5                                                                     \n",
      "\n",
      "\u001b[1m 1/15\u001b[0m \u001b[32m━\u001b[0m\u001b[37m━━━━━━━━━━━━━━━━━━━\u001b[0m \u001b[1m0s\u001b[0m 25ms/step - loss: 23.1665 - root_mean_squared_error: 4.8132\n",
      "\u001b[1m15/15\u001b[0m \u001b[32m━━━━━━━━━━━━━━━━━━━━\u001b[0m\u001b[37m\u001b[0m \u001b[1m0s\u001b[0m 5ms/step - loss: 24.3692 - root_mean_squared_error: 4.9365 - val_loss: 23.9697 - val_root_mean_squared_error: 4.8959\n",
      "\n",
      "Epoch 5/5                                                                     \n",
      "\n",
      "\u001b[1m 1/15\u001b[0m \u001b[32m━\u001b[0m\u001b[37m━━━━━━━━━━━━━━━━━━━\u001b[0m \u001b[1m0s\u001b[0m 31ms/step - loss: 23.3196 - root_mean_squared_error: 4.8290\n",
      "\u001b[1m15/15\u001b[0m \u001b[32m━━━━━━━━━━━━━━━━━━━━\u001b[0m\u001b[37m\u001b[0m \u001b[1m0s\u001b[0m 5ms/step - loss: 23.9086 - root_mean_squared_error: 4.8896 - val_loss: 23.6043 - val_root_mean_squared_error: 4.8584\n",
      "\n",
      "\u001b[1m1/4\u001b[0m \u001b[32m━━━━━\u001b[0m\u001b[37m━━━━━━━━━━━━━━━\u001b[0m \u001b[1m0s\u001b[0m 21ms/step - loss: 24.2587 - root_mean_squared_error: 4.9253\n",
      "\u001b[1m4/4\u001b[0m \u001b[32m━━━━━━━━━━━━━━━━━━━━\u001b[0m\u001b[37m\u001b[0m \u001b[1m0s\u001b[0m 3ms/step - loss: 23.6043 - root_mean_squared_error: 4.8584 \n",
      "\n",
      "Epoch 1/5                                                                     \n",
      "\n",
      "\u001b[1m 1/15\u001b[0m \u001b[32m━\u001b[0m\u001b[37m━━━━━━━━━━━━━━━━━━━\u001b[0m \u001b[1m4s\u001b[0m 307ms/step - loss: 27.5717 - root_mean_squared_error: 5.2509\n",
      "\u001b[1m15/15\u001b[0m \u001b[32m━━━━━━━━━━━━━━━━━━━━\u001b[0m\u001b[37m\u001b[0m \u001b[1m0s\u001b[0m 10ms/step - loss: 27.7554 - root_mean_squared_error: 5.2683 - val_loss: 27.5648 - val_root_mean_squared_error: 5.2502\n",
      "\n",
      "Epoch 2/5                                                                     \n",
      "\n",
      "\u001b[1m 1/15\u001b[0m \u001b[32m━\u001b[0m\u001b[37m━━━━━━━━━━━━━━━━━━━\u001b[0m \u001b[1m0s\u001b[0m 21ms/step - loss: 27.5707 - root_mean_squared_error: 5.2508\n",
      "\u001b[1m15/15\u001b[0m \u001b[32m━━━━━━━━━━━━━━━━━━━━\u001b[0m\u001b[37m\u001b[0m \u001b[1m0s\u001b[0m 5ms/step - loss: 27.6176 - root_mean_squared_error: 5.2552 - val_loss: 27.4225 - val_root_mean_squared_error: 5.2366\n",
      "\n",
      "Epoch 3/5                                                                     \n",
      "\n",
      "\u001b[1m 1/15\u001b[0m \u001b[32m━\u001b[0m\u001b[37m━━━━━━━━━━━━━━━━━━━\u001b[0m \u001b[1m0s\u001b[0m 22ms/step - loss: 28.1370 - root_mean_squared_error: 5.3044\n",
      "\u001b[1m15/15\u001b[0m \u001b[32m━━━━━━━━━━━━━━━━━━━━\u001b[0m\u001b[37m\u001b[0m \u001b[1m0s\u001b[0m 5ms/step - loss: 27.4804 - root_mean_squared_error: 5.2422 - val_loss: 27.2811 - val_root_mean_squared_error: 5.2231\n",
      "\n",
      "Epoch 4/5                                                                     \n",
      "\n",
      "\u001b[1m 1/15\u001b[0m \u001b[32m━\u001b[0m\u001b[37m━━━━━━━━━━━━━━━━━━━\u001b[0m \u001b[1m0s\u001b[0m 22ms/step - loss: 25.7300 - root_mean_squared_error: 5.0725\n",
      "\u001b[1m15/15\u001b[0m \u001b[32m━━━━━━━━━━━━━━━━━━━━\u001b[0m\u001b[37m\u001b[0m \u001b[1m0s\u001b[0m 4ms/step - loss: 27.3426 - root_mean_squared_error: 5.2290 - val_loss: 27.1401 - val_root_mean_squared_error: 5.2096\n",
      "\n",
      "Epoch 5/5                                                                     \n",
      "\n",
      "\u001b[1m 1/15\u001b[0m \u001b[32m━\u001b[0m\u001b[37m━━━━━━━━━━━━━━━━━━━\u001b[0m \u001b[1m0s\u001b[0m 31ms/step - loss: 28.1203 - root_mean_squared_error: 5.3029\n",
      "\u001b[1m15/15\u001b[0m \u001b[32m━━━━━━━━━━━━━━━━━━━━\u001b[0m\u001b[37m\u001b[0m \u001b[1m0s\u001b[0m 5ms/step - loss: 27.2058 - root_mean_squared_error: 5.2159 - val_loss: 27.0009 - val_root_mean_squared_error: 5.1962\n",
      "\n",
      "\u001b[1m1/4\u001b[0m \u001b[32m━━━━━\u001b[0m\u001b[37m━━━━━━━━━━━━━━━\u001b[0m \u001b[1m0s\u001b[0m 16ms/step - loss: 27.8520 - root_mean_squared_error: 5.2775\n",
      "\u001b[1m4/4\u001b[0m \u001b[32m━━━━━━━━━━━━━━━━━━━━\u001b[0m\u001b[37m\u001b[0m \u001b[1m0s\u001b[0m 4ms/step - loss: 27.0009 - root_mean_squared_error: 5.1962 \n",
      "\n",
      "100%|██████████| 6/6 [00:40<00:00,  6.70s/trial, best loss: 4.741666793823242]\n",
      "Best Parameters:{'lr': np.float64(0.009396230316554113), 'momentum': np.float64(0.28510643238577493)}\n"
     ]
    }
   ],
   "source": [
    "# Now lets jus set a experiment using mlflow\n",
    "mlflow.set_experiment(\"/Wine_Quality\")\n",
    "with mlflow.start_run():\n",
    "\n",
    "    # Conduct the hyperparamenter research using Hyperopt\n",
    "    trials=Trials()\n",
    "    best= fmin(\n",
    "        fn=objective,\n",
    "        space=space,\n",
    "        algo=tpe.suggest,\n",
    "        max_evals=6,\n",
    "        trials=trials)\n",
    "\n",
    "    # lets see the output of our best run\n",
    "    best_run=sorted(trials.results,key=lambda x:x[\"loss\"])[0]\n",
    "\n",
    "    #now finally lets log the best parameter ,loss and the model\n",
    "    mlflow.log_param(\"best\",best)\n",
    "    mlflow.log_metric(\"eval_rmse\", best_run[\"loss\"])\n",
    "    mlflow.tensorflow.log_model(best_run[\"model\"],\n",
    "                                signature=signature)\n",
    "    \n",
    "    # print out the best parameters and coressponding loss\n",
    "    print(f\"Best Parameters:{best}\")\n",
    "    # print(f\"Best eval_rmse: {best_loss}\")\n",
    "\n"
   ]
  },
  {
   "cell_type": "code",
   "execution_count": null,
   "id": "a21cdd4c",
   "metadata": {},
   "outputs": [
    {
     "name": "stderr",
     "output_type": "stream",
     "text": [
      "Successfully registered model 'BEst_ANN'.\n",
      "Created version '1' of model 'BEst_ANN'.\n"
     ]
    },
    {
     "data": {
      "text/plain": [
       "<ModelVersion: aliases=[], creation_timestamp=1761492221251, current_stage='None', deployment_job_state=None, description=None, last_updated_timestamp=1761492221251, metrics=None, model_id=None, name='BEst_ANN', params=None, run_id=None, run_link=None, source='http://127.0.0.1:5000/#/experiments/199088966918682078/runs/cad5bd03950c41e4848c5321d1b4ce98', status='READY', status_message=None, tags={}, user_id=None, version=1>"
      ]
     },
     "execution_count": 139,
     "metadata": {},
     "output_type": "execute_result"
    },
    {
     "ename": "",
     "evalue": "",
     "output_type": "error",
     "traceback": [
      "\u001b[1;31mThe Kernel crashed while executing code in the current cell or a previous cell. \n",
      "\u001b[1;31mPlease review the code in the cell(s) to identify a possible cause of the failure. \n",
      "\u001b[1;31mClick <a href='https://aka.ms/vscodeJupyterKernelCrash'>here</a> for more info. \n",
      "\u001b[1;31mView Jupyter <a href='command:jupyter.viewOutput'>log</a> for further details."
     ]
    }
   ],
   "source": [
    "## Lets register this model\n",
    "mlflow.register_model(model_uri=\"http://127.0.0.1:5000/#/experiments/199088966918682078/runs/cad5bd03950c41e4848c5321d1b4ce98\",name=\"BEst_ANN\")"
   ]
  },
  {
   "cell_type": "code",
   "execution_count": null,
   "id": "bdfe8163",
   "metadata": {},
   "outputs": [],
   "source": []
  }
 ],
 "metadata": {
  "kernelspec": {
   "display_name": "Python 3",
   "language": "python",
   "name": "python3"
  },
  "language_info": {
   "codemirror_mode": {
    "name": "ipython",
    "version": 3
   },
   "file_extension": ".py",
   "mimetype": "text/x-python",
   "name": "python",
   "nbconvert_exporter": "python",
   "pygments_lexer": "ipython3",
   "version": "3.10.0"
  }
 },
 "nbformat": 4,
 "nbformat_minor": 5
}
